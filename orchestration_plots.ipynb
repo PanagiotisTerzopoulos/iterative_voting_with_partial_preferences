{
 "cells": [
  {
   "cell_type": "code",
   "execution_count": 1,
   "metadata": {},
   "outputs": [],
   "source": [
    "import dill\n",
    "from main.manipulation import Manipulation\n",
    "from main.data_processing import evaluate_profile, get_social_welfare_of_alternative\n",
    "import pandas as pd\n",
    "import numpy as np\n",
    "from main.manipulation_utils import get_children_generation_options, check_transitivity, one_cost_children_generation, useful_change\n",
    "from IPython.display import display\n",
    "from copy import copy\n",
    "from matplotlib import pyplot as plt\n",
    "import seaborn as sns\n",
    "import os"
   ]
  },
  {
   "cell_type": "code",
   "execution_count": 61,
   "metadata": {},
   "outputs": [],
   "source": [
    "def get_qualities_of_winners(input_data, df_result, k, method):\n",
    "    \"\"\"\n",
    "    input_data: list of profiles\n",
    "    df_result: processed dataframe with the results\n",
    "    \"\"\"\n",
    "    num_alt = len(input_data[0][0])\n",
    "    alph_order = {}\n",
    "    for i in range(num_alt):\n",
    "        alph_order[i] = i\n",
    "        \n",
    "    winners = df_result['result'].apply(lambda d: d[max(d.keys())][0] if d else None).values\n",
    "    same_winner_times = 0\n",
    "    qualities = []\n",
    "    for i in range(len(winners)):\n",
    "        if not pd.isnull(winners[i]):\n",
    "            true_win = evaluate_profile(input_data[i], k, method, alph_order)[0]\n",
    "            if true_win == winners[i]:\n",
    "                same_winner_times+=1\n",
    "            qualities.append(get_social_welfare_of_alternative(input_data[i], true_win) - get_social_welfare_of_alternative(input_data[i], winners[i]))\n",
    "    return qualities, same_winner_times"
   ]
  },
  {
   "cell_type": "markdown",
   "metadata": {},
   "source": [
    "# data load and set-up"
   ]
  },
  {
   "cell_type": "code",
   "execution_count": 2,
   "metadata": {},
   "outputs": [],
   "source": [
    "with open('data/results/total_result.pkl', 'rb') as f:\n",
    "    total_result = dill.load(f)"
   ]
  },
  {
   "cell_type": "markdown",
   "metadata": {},
   "source": [
    "### calculate quality of winners"
   ]
  },
  {
   "cell_type": "code",
   "execution_count": 3,
   "metadata": {},
   "outputs": [],
   "source": [
    "with open('data/our_data_complete.pkl', 'rb') as f:\n",
    "    input_data_complete = dill.load(f)\n",
    "with open('data/our_data_incomplete.pkl', 'rb') as f:\n",
    "    input_data_incomplete = dill.load(f)"
   ]
  },
  {
   "cell_type": "code",
   "execution_count": 5,
   "metadata": {},
   "outputs": [],
   "source": [
    "data_df = pd.DataFrame(total_result).T\n",
    "data_df.columns = ['convergence', 'result']"
   ]
  },
  {
   "cell_type": "code",
   "execution_count": 6,
   "metadata": {
    "scrolled": true
   },
   "outputs": [
    {
     "data": {
      "text/html": [
       "<div>\n",
       "<style scoped>\n",
       "    .dataframe tbody tr th:only-of-type {\n",
       "        vertical-align: middle;\n",
       "    }\n",
       "\n",
       "    .dataframe tbody tr th {\n",
       "        vertical-align: top;\n",
       "    }\n",
       "\n",
       "    .dataframe thead th {\n",
       "        text-align: right;\n",
       "    }\n",
       "</style>\n",
       "<table border=\"1\" class=\"dataframe\">\n",
       "  <thead>\n",
       "    <tr style=\"text-align: right;\">\n",
       "      <th></th>\n",
       "      <th></th>\n",
       "      <th></th>\n",
       "      <th></th>\n",
       "      <th></th>\n",
       "      <th></th>\n",
       "      <th></th>\n",
       "      <th></th>\n",
       "      <th></th>\n",
       "      <th></th>\n",
       "      <th></th>\n",
       "      <th></th>\n",
       "      <th>convergence</th>\n",
       "      <th>result</th>\n",
       "    </tr>\n",
       "  </thead>\n",
       "  <tbody>\n",
       "    <tr>\n",
       "      <th rowspan=\"5\" valign=\"top\">3</th>\n",
       "      <th rowspan=\"5\" valign=\"top\">10</th>\n",
       "      <th rowspan=\"5\" valign=\"top\">ic</th>\n",
       "      <th>131</th>\n",
       "      <th>1</th>\n",
       "      <th>approval</th>\n",
       "      <th>100</th>\n",
       "      <th>0</th>\n",
       "      <th>True</th>\n",
       "      <th>True</th>\n",
       "      <th>True</th>\n",
       "      <th>True</th>\n",
       "      <td>True</td>\n",
       "      <td>{0: (1, 8)}</td>\n",
       "    </tr>\n",
       "    <tr>\n",
       "      <th>132</th>\n",
       "      <th>1</th>\n",
       "      <th>approval</th>\n",
       "      <th>100</th>\n",
       "      <th>0</th>\n",
       "      <th>True</th>\n",
       "      <th>True</th>\n",
       "      <th>True</th>\n",
       "      <th>True</th>\n",
       "      <td>True</td>\n",
       "      <td>{}</td>\n",
       "    </tr>\n",
       "    <tr>\n",
       "      <th>133</th>\n",
       "      <th>1</th>\n",
       "      <th>approval</th>\n",
       "      <th>100</th>\n",
       "      <th>0</th>\n",
       "      <th>True</th>\n",
       "      <th>True</th>\n",
       "      <th>True</th>\n",
       "      <th>True</th>\n",
       "      <td>True</td>\n",
       "      <td>{0: (0, 6), 1: (2, 4), 2: (0, 1)}</td>\n",
       "    </tr>\n",
       "    <tr>\n",
       "      <th>134</th>\n",
       "      <th>1</th>\n",
       "      <th>approval</th>\n",
       "      <th>100</th>\n",
       "      <th>0</th>\n",
       "      <th>True</th>\n",
       "      <th>True</th>\n",
       "      <th>True</th>\n",
       "      <th>True</th>\n",
       "      <td>True</td>\n",
       "      <td>{}</td>\n",
       "    </tr>\n",
       "    <tr>\n",
       "      <th>135</th>\n",
       "      <th>1</th>\n",
       "      <th>approval</th>\n",
       "      <th>100</th>\n",
       "      <th>0</th>\n",
       "      <th>True</th>\n",
       "      <th>True</th>\n",
       "      <th>True</th>\n",
       "      <th>True</th>\n",
       "      <td>True</td>\n",
       "      <td>{0: (0, 1), 1: (2, 7), 2: (0, 4)}</td>\n",
       "    </tr>\n",
       "    <tr>\n",
       "      <th>...</th>\n",
       "      <th>...</th>\n",
       "      <th>...</th>\n",
       "      <th>...</th>\n",
       "      <th>...</th>\n",
       "      <th>...</th>\n",
       "      <th>...</th>\n",
       "      <th>...</th>\n",
       "      <th>...</th>\n",
       "      <th>...</th>\n",
       "      <th>...</th>\n",
       "      <th>...</th>\n",
       "      <td>...</td>\n",
       "      <td>...</td>\n",
       "    </tr>\n",
       "    <tr>\n",
       "      <th rowspan=\"5\" valign=\"top\">7</th>\n",
       "      <th rowspan=\"5\" valign=\"top\">20</th>\n",
       "      <th rowspan=\"5\" valign=\"top\">ic</th>\n",
       "      <th>45</th>\n",
       "      <th>1</th>\n",
       "      <th>approval</th>\n",
       "      <th>100</th>\n",
       "      <th>0</th>\n",
       "      <th>True</th>\n",
       "      <th>True</th>\n",
       "      <th>True</th>\n",
       "      <th>True</th>\n",
       "      <td>True</td>\n",
       "      <td>{0: (4, 14), 1: (1, 1), 2: (4, 16), 3: (1, 13)...</td>\n",
       "    </tr>\n",
       "    <tr>\n",
       "      <th>46</th>\n",
       "      <th>1</th>\n",
       "      <th>approval</th>\n",
       "      <th>100</th>\n",
       "      <th>0</th>\n",
       "      <th>True</th>\n",
       "      <th>True</th>\n",
       "      <th>True</th>\n",
       "      <th>True</th>\n",
       "      <td>True</td>\n",
       "      <td>{}</td>\n",
       "    </tr>\n",
       "    <tr>\n",
       "      <th>47</th>\n",
       "      <th>1</th>\n",
       "      <th>approval</th>\n",
       "      <th>100</th>\n",
       "      <th>0</th>\n",
       "      <th>True</th>\n",
       "      <th>True</th>\n",
       "      <th>True</th>\n",
       "      <th>True</th>\n",
       "      <td>hard_exit</td>\n",
       "      <td>hard_exit</td>\n",
       "    </tr>\n",
       "    <tr>\n",
       "      <th>48</th>\n",
       "      <th>1</th>\n",
       "      <th>approval</th>\n",
       "      <th>100</th>\n",
       "      <th>0</th>\n",
       "      <th>True</th>\n",
       "      <th>True</th>\n",
       "      <th>True</th>\n",
       "      <th>True</th>\n",
       "      <td>True</td>\n",
       "      <td>{0: (2, 7), 1: (4, 11), 2: (2, 17), 3: (4, 10)...</td>\n",
       "    </tr>\n",
       "    <tr>\n",
       "      <th>49</th>\n",
       "      <th>1</th>\n",
       "      <th>approval</th>\n",
       "      <th>100</th>\n",
       "      <th>0</th>\n",
       "      <th>True</th>\n",
       "      <th>True</th>\n",
       "      <th>True</th>\n",
       "      <th>True</th>\n",
       "      <td>True</td>\n",
       "      <td>{}</td>\n",
       "    </tr>\n",
       "  </tbody>\n",
       "</table>\n",
       "<p>11046 rows × 2 columns</p>\n",
       "</div>"
      ],
      "text/plain": [
       "                                                 convergence  \\\n",
       "3 10 ic 131 1 approval 100 0 True True True True        True   \n",
       "        132 1 approval 100 0 True True True True        True   \n",
       "        133 1 approval 100 0 True True True True        True   \n",
       "        134 1 approval 100 0 True True True True        True   \n",
       "        135 1 approval 100 0 True True True True        True   \n",
       "...                                                      ...   \n",
       "7 20 ic 45  1 approval 100 0 True True True True        True   \n",
       "        46  1 approval 100 0 True True True True        True   \n",
       "        47  1 approval 100 0 True True True True   hard_exit   \n",
       "        48  1 approval 100 0 True True True True        True   \n",
       "        49  1 approval 100 0 True True True True        True   \n",
       "\n",
       "                                                                                             result  \n",
       "3 10 ic 131 1 approval 100 0 True True True True                                        {0: (1, 8)}  \n",
       "        132 1 approval 100 0 True True True True                                                 {}  \n",
       "        133 1 approval 100 0 True True True True                  {0: (0, 6), 1: (2, 4), 2: (0, 1)}  \n",
       "        134 1 approval 100 0 True True True True                                                 {}  \n",
       "        135 1 approval 100 0 True True True True                  {0: (0, 1), 1: (2, 7), 2: (0, 4)}  \n",
       "...                                                                                             ...  \n",
       "7 20 ic 45  1 approval 100 0 True True True True  {0: (4, 14), 1: (1, 1), 2: (4, 16), 3: (1, 13)...  \n",
       "        46  1 approval 100 0 True True True True                                                 {}  \n",
       "        47  1 approval 100 0 True True True True                                          hard_exit  \n",
       "        48  1 approval 100 0 True True True True  {0: (2, 7), 1: (4, 11), 2: (2, 17), 3: (4, 10)...  \n",
       "        49  1 approval 100 0 True True True True                                                 {}  \n",
       "\n",
       "[11046 rows x 2 columns]"
      ]
     },
     "execution_count": 6,
     "metadata": {},
     "output_type": "execute_result"
    }
   ],
   "source": [
    "data_df"
   ]
  },
  {
   "cell_type": "markdown",
   "metadata": {},
   "source": [
    "# Plots\n",
    "to check:\n",
    "\n",
    "1. number of rounds to convergence (putting an upper bound for cycles)\n",
    "\n",
    "2. number of non-manipulable profiles\n",
    "\n",
    "3. quality of winner in truthful vs. equilibrium profile. \n",
    "- Definition: input: one alternative `a` and one truthful profile. For every voter, look at her preference. The quality of the alternative a is #1s - #(-1s) in the row of `a`. Sum up the quality of a for all voters. This is the social welfare.\n",
    "\n",
    "Calculate social welfare for truthful winner and convergence winner, and subtract latter from former.\n",
    "\n",
    "4. number of times where the winner was the same as the truthful one\n",
    "----------------------------------------------------\n",
    "\n",
    "\n",
    "for plotting:\n",
    "\n",
    "1. x: percentage of profiles that have converged ; y: number of rounds\n",
    "each plot includes: one distribution, different lines for (n,m)\n",
    "different plots for k, approval/veto, om/add/flip, linear orders \n",
    "\n",
    "2. x: percentage of non-manipulable profiles ; y: om/ad/flip (7 combinations)\n",
    "each plot includes: one distribution, different dots for (n,m)\n",
    "different plots for k, approval/veto, linear orders\n",
    "\n",
    "3. x: percentage of profiles with that sw; y: social welfare (0 to 1)\n",
    "each plot includes: one distribution, different lines for (n,m)\n",
    "different plots for k, approval/veto, om/add/flip, linear orders\n",
    "\n",
    "4. x: percentage of profiles with true winner ; y: om/ad/flip (7 combinations)\n",
    "each plot includes: one distribution, different dots for (n,m)\n",
    "different plots for k, approval/veto, linear orders\n"
   ]
  },
  {
   "cell_type": "code",
   "execution_count": 7,
   "metadata": {},
   "outputs": [],
   "source": [
    "k = 1\n",
    "method = 'approval'\n",
    "completeness = True\n",
    "cycle_limit = 100"
   ]
  },
  {
   "cell_type": "code",
   "execution_count": 63,
   "metadata": {},
   "outputs": [
    {
     "name": "stdout",
     "output_type": "stream",
     "text": [
      "k: 1, num_alt: 3, num_vot: 10, d_type: 2urn: percent of converged 100%, convergence rounds: mean=0.44, max=6, std=0.95, mean_quality: -0.82, times with no winner change: 20\n",
      "k: 1, num_alt: 3, num_vot: 20, d_type: 2urn: percent of converged 100%, convergence rounds: mean=0.51, max=5, std=1.07, mean_quality: -0.36, times with no winner change: 24\n",
      "k: 1, num_alt: 3, num_vot: 50, d_type: 2urn: percent of converged 100%, convergence rounds: mean=0.79, max=8, std=1.90, mean_quality: -1.59, times with no winner change: 22\n",
      "k: 1, num_alt: 3, num_vot: 10, d_type: ic: percent of converged 100%, convergence rounds: mean=0.715, max=6, std=1.16, mean_quality: 5.01, times with no winner change: 23\n",
      "k: 1, num_alt: 3, num_vot: 20, d_type: ic: percent of converged 100%, convergence rounds: mean=1.1, max=14, std=2.22, mean_quality: -0.94, times with no winner change: 30\n",
      "k: 1, num_alt: 3, num_vot: 50, d_type: ic: percent of converged 100%, convergence rounds: mean=2.43, max=17, std=5.08, mean_quality: -2.15, times with no winner change: 19\n",
      "k: 1, num_alt: 4, num_vot: 10, d_type: 2urn: percent of converged 100%, convergence rounds: mean=0.53, max=3, std=0.90, mean_quality: -0.66, times with no winner change: 23\n",
      "k: 1, num_alt: 4, num_vot: 20, d_type: 2urn: percent of converged 100%, convergence rounds: mean=0.965, max=6, std=1.71, mean_quality: -2.38, times with no winner change: 33\n",
      "k: 1, num_alt: 4, num_vot: 50, d_type: 2urn: percent of converged 100%, convergence rounds: mean=1.76, max=12, std=3.43, mean_quality: 6.34, times with no winner change: 25\n",
      "k: 1, num_alt: 4, num_vot: 10, d_type: ic: percent of converged 100%, convergence rounds: mean=1.33, max=20, std=2.18, mean_quality: -1.28, times with no winner change: 43\n",
      "k: 1, num_alt: 4, num_vot: 20, d_type: ic: percent of converged 100%, convergence rounds: mean=2.435, max=17, std=3.38, mean_quality: -1.93, times with no winner change: 47\n",
      "k: 1, num_alt: 4, num_vot: 50, d_type: ic: percent of converged 100%, convergence rounds: mean=4.59, max=26, std=8.18, mean_quality: -5.64, times with no winner change: 26\n",
      "k: 1, num_alt: 5, num_vot: 10, d_type: 2urn: percent of converged 100%, convergence rounds: mean=0.64, max=4, std=1.10, mean_quality: -1.87, times with no winner change: 31\n",
      "k: 1, num_alt: 5, num_vot: 20, d_type: 2urn: percent of converged 100%, convergence rounds: mean=1.125, max=8, std=2.06, mean_quality: -0.87, times with no winner change: 32\n",
      "k: 1, num_alt: 5, num_vot: 50, d_type: 2urn: percent of converged 100%, convergence rounds: mean=1.965, max=15, std=3.88, mean_quality: -5.38, times with no winner change: 26\n",
      "k: 1, num_alt: 5, num_vot: 10, d_type: ic: percent of converged 100%, convergence rounds: mean=1.965, max=38, std=3.59, mean_quality: -1.94, times with no winner change: 42\n",
      "k: 1, num_alt: 5, num_vot: 20, d_type: ic: percent of converged 100%, convergence rounds: mean=3.05, max=14, std=3.87, mean_quality: -2.79, times with no winner change: 45\n",
      "k: 1, num_alt: 5, num_vot: 50, d_type: ic: percent of converged 100%, convergence rounds: mean=5.945, max=29, std=9.85, mean_quality: -6.69, times with no winner change: 30\n",
      "k: 1, num_alt: 6, num_vot: 10, d_type: 2urn: percent of converged 100%, convergence rounds: mean=0.85, max=7, std=1.34, mean_quality: -3.57, times with no winner change: 36\n",
      "k: 1, num_alt: 6, num_vot: 20, d_type: 2urn: percent of converged 100%, convergence rounds: mean=1.415, max=8, std=2.24, mean_quality: -3.62, times with no winner change: 35\n",
      "k: 1, num_alt: 6, num_vot: 50, d_type: 2urn: percent of converged 100%, convergence rounds: mean=2.29, max=15, std=4.47, mean_quality: -7.13, times with no winner change: 24\n",
      "k: 1, num_alt: 6, num_vot: 10, d_type: ic: percent of converged 100%, convergence rounds: mean=2.215, max=12, std=2.46, mean_quality: -1.19, times with no winner change: 51\n",
      "k: 1, num_alt: 6, num_vot: 20, d_type: ic: percent of converged 100%, convergence rounds: mean=3.895, max=14, std=4.42, mean_quality: -3.77, times with no winner change: 53\n",
      "k: 1, num_alt: 6, num_vot: 50, d_type: ic: percent of converged 100%, convergence rounds: mean=7.945, max=41, std=11.93, mean_quality: -5.05, times with no winner change: 35\n"
     ]
    }
   ],
   "source": [
    "inds = []\n",
    "convergence_rounds_all = []\n",
    "qualities_all = []\n",
    "same_winner_times_all = []\n",
    "\n",
    "for num_alt in [3, 4, 5, 6]:\n",
    "    for d_type in [\"2urn\", \"ic\"]:\n",
    "        for num_vot in [10, 20, 50]:\n",
    "            dft = data_df.loc[(num_alt, num_vot, d_type, slice(None), k, method, cycle_limit, 0, True, True, True, completeness)]\n",
    "            convergence_rounds = dft['result'].apply(lambda d: max(d.keys())+1 if d else 0)\n",
    "            input_data = {True: input_data_complete, False: input_data_incomplete}[completeness]\n",
    "            qualities, same_winner_times =get_qualities_of_winners(input_data[(num_vot, num_alt, d_type)], dft, k, method)\n",
    "            \n",
    "            inds.append((num_alt, num_vot, d_type))\n",
    "            convergence_rounds_all.append(convergence_rounds)\n",
    "            qualities_all.append(qualities)\n",
    "            same_winner_times_all.append(same_winner_times)\n",
    "            \n",
    "            print(f'k: {k}, num_alt: {num_alt}, num_vot: {num_vot}, d_type: {d_type}: percent of converged {dft[\"convergence\"].max()*100}%, convergence rounds: mean={convergence_rounds.mean()}, max={convergence_rounds.max()}, std={convergence_rounds.std():.2f}, mean_quality: {np.mean(qualities):.2f}, times with no winner change: {same_winner_times}')"
   ]
  },
  {
   "cell_type": "code",
   "execution_count": 64,
   "metadata": {},
   "outputs": [],
   "source": [
    "means = [x.mean() for x in convergence_rounds_all]\n",
    "stds = [x.std() for x in convergence_rounds_all]"
   ]
  },
  {
   "cell_type": "code",
   "execution_count": 65,
   "metadata": {},
   "outputs": [],
   "source": [
    "df = pd.DataFrame({'means': means, 'stds': stds}, index=pd.MultiIndex.from_tuples(inds, names=['num_alt', 'num_vot', 'd_type'])).reset_index()"
   ]
  },
  {
   "cell_type": "code",
   "execution_count": null,
   "metadata": {},
   "outputs": [],
   "source": []
  },
  {
   "cell_type": "code",
   "execution_count": 67,
   "metadata": {},
   "outputs": [
    {
     "data": {
      "image/png": "[encoded data removed]",
      "text/plain": [
       "<Figure size 432x288 with 2 Axes>"
      ]
     },
     "metadata": {
      "needs_background": "light"
     },
     "output_type": "display_data"
    },
    {
     "data": {
      "image/png": "[encoded data removed]",
      "text/plain": [
       "<Figure size 432x288 with 2 Axes>"
      ]
     },
     "metadata": {
      "needs_background": "light"
     },
     "output_type": "display_data"
    }
   ],
   "source": [
    "for d_type in ['ic', '2urn']:\n",
    "    dft = df[df['d_type']==d_type]\n",
    "    plt.scatter(dft['num_alt'], dft['means'], c=dft['num_vot'], s =100, alpha=0.7, label='mean')\n",
    "    plt.scatter(dft['num_alt'], dft['stds'], c=dft['num_vot'], s =100, marker='D', alpha=0.7, label='std')\n",
    "    plt.title(d_type)\n",
    "    plt.legend()\n",
    "    plt.xlabel('num_alternatives')\n",
    "    plt.ylabel('convergence rounds')\n",
    "    cbar = plt.colorbar()\n",
    "    cbar.set_label('num voters')\n",
    "    plt.show()"
   ]
  },
  {
   "cell_type": "code",
   "execution_count": null,
   "metadata": {},
   "outputs": [],
   "source": []
  }
 ],
 "metadata": {
  "kernelspec": {
   "display_name": "Python 3",
   "language": "python",
   "name": "python3"
  },
  "language_info": {
   "codemirror_mode": {
    "name": "ipython",
    "version": 3
   },
   "file_extension": ".py",
   "mimetype": "text/x-python",
   "name": "python",
   "nbconvert_exporter": "python",
   "pygments_lexer": "ipython3",
   "version": "3.8.5"
  }
 },
 "nbformat": 4,
 "nbformat_minor": 4
}
