{
 "cells": [
  {
   "cell_type": "code",
   "execution_count": 1,
   "metadata": {},
   "outputs": [],
   "source": [
    "import dill\n",
    "from main.manipulation import Manipulation\n",
    "from main.data_processing import evaluate_profile, create_graph_from_matrix\n",
    "import pandas as pd\n",
    "from main.manipulation_utils import get_children_generation_options, check_transitivity, one_cost_children_generation, useful_change\n",
    "from IPython.display import display\n",
    "import matplotlib.pyplot as plt\n",
    "from tqdm import tqdm"
   ]
  },
  {
   "cell_type": "code",
   "execution_count": 2,
   "metadata": {},
   "outputs": [],
   "source": [
    "# examples.values[0]: (current_prefs[voters[preference]], true_prefs[voters[preference]])\n",
    "examples = {\n",
    "    1: (\n",
    "        (pd.DataFrame({0: [0,1,1], 1: [-1,0,1], 2:[-1,-1,0]}), pd.DataFrame({0: [0,-1,0], 1: [1,0,1], 2:[0,-1,0]})),\n",
    "        (pd.DataFrame({0: [0,1,1], 1: [-1,0,1], 2:[-1,-1,0]}), pd.DataFrame({0: [0,0,0], 1: [0,0,-1], 2:[0,1,0]}))\n",
    "    ),\n",
    "    2: (\n",
    "        (pd.DataFrame({0: [0,0,0], 1: [0,0,0], 2:[0,0,0]}), pd.DataFrame({0: [0,0,0], 1: [0,0,1], 2:[0,-1,0]})),\n",
    "        (pd.DataFrame({0: [0,0,0], 1: [0,0,0], 2:[0,0,0]}),pd.DataFrame({0: [0,0,0], 1: [0,0,-1], 2:[0,1,0]}))\n",
    "    ),\n",
    "    3: (\n",
    "        (pd.DataFrame({0: [0,0,0,0], 1: [0,0,0,-1], 2:[0,0,0,-1], 3: [0,1,1,0]}), pd.DataFrame({0: [0,0,0,0], 1: [0,0,0,0], 2:[0,0,0,0], 3: [0,0,0,0]})),\n",
    "        (pd.DataFrame({0: [0,1,1,1], 1: [-1,0,1,1], 2:[-1,-1,0,1], 3: [-1,-1,-1,0]}), pd.DataFrame({0: [0,0,0,0], 1: [0,0,0,0], 2:[0,0,0,0], 3: [0,0,0,0]}))\n",
    "    ),\n",
    "    4: (\n",
    "        (pd.DataFrame({0: [0,-1,-1], 1: [1,0,0], 2:[1,0,0]}), pd.DataFrame({0: [0,-1,1], 1: [1,0,1], 2:[-1,-1,0]}), pd.DataFrame({0: [0,1,1], 1: [-1,0,1], 2:[-1,-1,0]})),\n",
    "        (pd.DataFrame({0: [0,-1,-1], 1: [1,0,0], 2:[1,0,0]}), pd.DataFrame({0: [0,-1,1], 1: [1,0,1], 2:[-1,-1,0]}), pd.DataFrame({0: [0,1,1], 1: [-1,0,1], 2:[-1,-1,0]}))\n",
    "    )\n",
    "}\n"
   ]
  },
  {
   "cell_type": "code",
   "execution_count": 28,
   "metadata": {},
   "outputs": [
    {
     "data": {
      "text/html": [
       "<div>\n",
       "<style scoped>\n",
       "    .dataframe tbody tr th:only-of-type {\n",
       "        vertical-align: middle;\n",
       "    }\n",
       "\n",
       "    .dataframe tbody tr th {\n",
       "        vertical-align: top;\n",
       "    }\n",
       "\n",
       "    .dataframe thead th {\n",
       "        text-align: right;\n",
       "    }\n",
       "</style>\n",
       "<table border=\"1\" class=\"dataframe\">\n",
       "  <thead>\n",
       "    <tr style=\"text-align: right;\">\n",
       "      <th></th>\n",
       "      <th>0</th>\n",
       "      <th>1</th>\n",
       "      <th>2</th>\n",
       "    </tr>\n",
       "  </thead>\n",
       "  <tbody>\n",
       "    <tr>\n",
       "      <th>0</th>\n",
       "      <td>0</td>\n",
       "      <td>1</td>\n",
       "      <td>1</td>\n",
       "    </tr>\n",
       "    <tr>\n",
       "      <th>1</th>\n",
       "      <td>-1</td>\n",
       "      <td>0</td>\n",
       "      <td>0</td>\n",
       "    </tr>\n",
       "    <tr>\n",
       "      <th>2</th>\n",
       "      <td>-1</td>\n",
       "      <td>0</td>\n",
       "      <td>0</td>\n",
       "    </tr>\n",
       "  </tbody>\n",
       "</table>\n",
       "</div>"
      ],
      "text/plain": [
       "   0  1  2\n",
       "0  0  1  1\n",
       "1 -1  0  0\n",
       "2 -1  0  0"
      ]
     },
     "metadata": {},
     "output_type": "display_data"
    },
    {
     "data": {
      "text/html": [
       "<div>\n",
       "<style scoped>\n",
       "    .dataframe tbody tr th:only-of-type {\n",
       "        vertical-align: middle;\n",
       "    }\n",
       "\n",
       "    .dataframe tbody tr th {\n",
       "        vertical-align: top;\n",
       "    }\n",
       "\n",
       "    .dataframe thead th {\n",
       "        text-align: right;\n",
       "    }\n",
       "</style>\n",
       "<table border=\"1\" class=\"dataframe\">\n",
       "  <thead>\n",
       "    <tr style=\"text-align: right;\">\n",
       "      <th></th>\n",
       "      <th>0</th>\n",
       "      <th>1</th>\n",
       "      <th>2</th>\n",
       "    </tr>\n",
       "  </thead>\n",
       "  <tbody>\n",
       "    <tr>\n",
       "      <th>0</th>\n",
       "      <td>0</td>\n",
       "      <td>1</td>\n",
       "      <td>-1</td>\n",
       "    </tr>\n",
       "    <tr>\n",
       "      <th>1</th>\n",
       "      <td>-1</td>\n",
       "      <td>0</td>\n",
       "      <td>-1</td>\n",
       "    </tr>\n",
       "    <tr>\n",
       "      <th>2</th>\n",
       "      <td>1</td>\n",
       "      <td>1</td>\n",
       "      <td>0</td>\n",
       "    </tr>\n",
       "  </tbody>\n",
       "</table>\n",
       "</div>"
      ],
      "text/plain": [
       "   0  1  2\n",
       "0  0  1 -1\n",
       "1 -1  0 -1\n",
       "2  1  1  0"
      ]
     },
     "metadata": {},
     "output_type": "display_data"
    },
    {
     "data": {
      "text/html": [
       "<div>\n",
       "<style scoped>\n",
       "    .dataframe tbody tr th:only-of-type {\n",
       "        vertical-align: middle;\n",
       "    }\n",
       "\n",
       "    .dataframe tbody tr th {\n",
       "        vertical-align: top;\n",
       "    }\n",
       "\n",
       "    .dataframe thead th {\n",
       "        text-align: right;\n",
       "    }\n",
       "</style>\n",
       "<table border=\"1\" class=\"dataframe\">\n",
       "  <thead>\n",
       "    <tr style=\"text-align: right;\">\n",
       "      <th></th>\n",
       "      <th>0</th>\n",
       "      <th>1</th>\n",
       "      <th>2</th>\n",
       "    </tr>\n",
       "  </thead>\n",
       "  <tbody>\n",
       "    <tr>\n",
       "      <th>0</th>\n",
       "      <td>0</td>\n",
       "      <td>-1</td>\n",
       "      <td>-1</td>\n",
       "    </tr>\n",
       "    <tr>\n",
       "      <th>1</th>\n",
       "      <td>1</td>\n",
       "      <td>0</td>\n",
       "      <td>-1</td>\n",
       "    </tr>\n",
       "    <tr>\n",
       "      <th>2</th>\n",
       "      <td>1</td>\n",
       "      <td>1</td>\n",
       "      <td>0</td>\n",
       "    </tr>\n",
       "  </tbody>\n",
       "</table>\n",
       "</div>"
      ],
      "text/plain": [
       "   0  1  2\n",
       "0  0 -1 -1\n",
       "1  1  0 -1\n",
       "2  1  1  0"
      ]
     },
     "metadata": {},
     "output_type": "display_data"
    }
   ],
   "source": [
    "for p in examples[4][0]:\n",
    "    display(p)"
   ]
  },
  {
   "cell_type": "code",
   "execution_count": 29,
   "metadata": {},
   "outputs": [
    {
     "data": {
      "text/html": [
       "<div>\n",
       "<style scoped>\n",
       "    .dataframe tbody tr th:only-of-type {\n",
       "        vertical-align: middle;\n",
       "    }\n",
       "\n",
       "    .dataframe tbody tr th {\n",
       "        vertical-align: top;\n",
       "    }\n",
       "\n",
       "    .dataframe thead th {\n",
       "        text-align: right;\n",
       "    }\n",
       "</style>\n",
       "<table border=\"1\" class=\"dataframe\">\n",
       "  <thead>\n",
       "    <tr style=\"text-align: right;\">\n",
       "      <th></th>\n",
       "      <th>0</th>\n",
       "      <th>1</th>\n",
       "      <th>2</th>\n",
       "    </tr>\n",
       "  </thead>\n",
       "  <tbody>\n",
       "    <tr>\n",
       "      <th>0</th>\n",
       "      <td>0</td>\n",
       "      <td>1</td>\n",
       "      <td>1</td>\n",
       "    </tr>\n",
       "    <tr>\n",
       "      <th>1</th>\n",
       "      <td>-1</td>\n",
       "      <td>0</td>\n",
       "      <td>0</td>\n",
       "    </tr>\n",
       "    <tr>\n",
       "      <th>2</th>\n",
       "      <td>-1</td>\n",
       "      <td>0</td>\n",
       "      <td>0</td>\n",
       "    </tr>\n",
       "  </tbody>\n",
       "</table>\n",
       "</div>"
      ],
      "text/plain": [
       "   0  1  2\n",
       "0  0  1  1\n",
       "1 -1  0  0\n",
       "2 -1  0  0"
      ]
     },
     "metadata": {},
     "output_type": "display_data"
    },
    {
     "data": {
      "text/html": [
       "<div>\n",
       "<style scoped>\n",
       "    .dataframe tbody tr th:only-of-type {\n",
       "        vertical-align: middle;\n",
       "    }\n",
       "\n",
       "    .dataframe tbody tr th {\n",
       "        vertical-align: top;\n",
       "    }\n",
       "\n",
       "    .dataframe thead th {\n",
       "        text-align: right;\n",
       "    }\n",
       "</style>\n",
       "<table border=\"1\" class=\"dataframe\">\n",
       "  <thead>\n",
       "    <tr style=\"text-align: right;\">\n",
       "      <th></th>\n",
       "      <th>0</th>\n",
       "      <th>1</th>\n",
       "      <th>2</th>\n",
       "    </tr>\n",
       "  </thead>\n",
       "  <tbody>\n",
       "    <tr>\n",
       "      <th>0</th>\n",
       "      <td>0</td>\n",
       "      <td>1</td>\n",
       "      <td>-1</td>\n",
       "    </tr>\n",
       "    <tr>\n",
       "      <th>1</th>\n",
       "      <td>-1</td>\n",
       "      <td>0</td>\n",
       "      <td>-1</td>\n",
       "    </tr>\n",
       "    <tr>\n",
       "      <th>2</th>\n",
       "      <td>1</td>\n",
       "      <td>1</td>\n",
       "      <td>0</td>\n",
       "    </tr>\n",
       "  </tbody>\n",
       "</table>\n",
       "</div>"
      ],
      "text/plain": [
       "   0  1  2\n",
       "0  0  1 -1\n",
       "1 -1  0 -1\n",
       "2  1  1  0"
      ]
     },
     "metadata": {},
     "output_type": "display_data"
    },
    {
     "data": {
      "text/html": [
       "<div>\n",
       "<style scoped>\n",
       "    .dataframe tbody tr th:only-of-type {\n",
       "        vertical-align: middle;\n",
       "    }\n",
       "\n",
       "    .dataframe tbody tr th {\n",
       "        vertical-align: top;\n",
       "    }\n",
       "\n",
       "    .dataframe thead th {\n",
       "        text-align: right;\n",
       "    }\n",
       "</style>\n",
       "<table border=\"1\" class=\"dataframe\">\n",
       "  <thead>\n",
       "    <tr style=\"text-align: right;\">\n",
       "      <th></th>\n",
       "      <th>0</th>\n",
       "      <th>1</th>\n",
       "      <th>2</th>\n",
       "    </tr>\n",
       "  </thead>\n",
       "  <tbody>\n",
       "    <tr>\n",
       "      <th>0</th>\n",
       "      <td>0</td>\n",
       "      <td>-1</td>\n",
       "      <td>-1</td>\n",
       "    </tr>\n",
       "    <tr>\n",
       "      <th>1</th>\n",
       "      <td>1</td>\n",
       "      <td>0</td>\n",
       "      <td>-1</td>\n",
       "    </tr>\n",
       "    <tr>\n",
       "      <th>2</th>\n",
       "      <td>1</td>\n",
       "      <td>1</td>\n",
       "      <td>0</td>\n",
       "    </tr>\n",
       "  </tbody>\n",
       "</table>\n",
       "</div>"
      ],
      "text/plain": [
       "   0  1  2\n",
       "0  0 -1 -1\n",
       "1  1  0 -1\n",
       "2  1  1  0"
      ]
     },
     "metadata": {},
     "output_type": "display_data"
    }
   ],
   "source": [
    "for p in examples[4][1]:\n",
    "    display(p)"
   ]
  },
  {
   "cell_type": "code",
   "execution_count": 26,
   "metadata": {},
   "outputs": [],
   "source": [
    "def test(example_to_test,\n",
    "         manipulation_voter,\n",
    "         k,\n",
    "         rule,\n",
    "         do_omissions,\n",
    "         do_additions,\n",
    "         do_flips,\n",
    "         expected_winner,\n",
    "         expected_profiles,\n",
    "         verbose = False\n",
    "        ):\n",
    "    alph_order = {}\n",
    "    for i in example_to_test[0][0].index:\n",
    "        alph_order[i] = i\n",
    "    \n",
    "    winner, possible_winners, scores_of_alternatives = evaluate_profile(graphs=example_to_test[0], k=k, method=rule, alphabetical_order=alph_order)\n",
    "    \n",
    "    man = Manipulation(\n",
    "    all_preferences=example_to_test[0],\n",
    "    preference_idx=manipulation_voter,\n",
    "    winner=winner,\n",
    "    truthful_profile=example_to_test[1],\n",
    "    possible_winners=possible_winners,\n",
    "    scores_of_alternatives=scores_of_alternatives,\n",
    "    alphabetical_order_of_alternatives=alph_order,\n",
    "    method=rule,\n",
    "    k=k,\n",
    "    do_additions=do_additions,\n",
    "    do_omissions=do_omissions,\n",
    "    do_flips=do_flips,\n",
    "    verbose=verbose,\n",
    "    hard_exit_time_limit=300\n",
    "    )\n",
    "\n",
    "    result = man.manipulation_move()\n",
    "    if result is not None:\n",
    "        new_prof, winner = result\n",
    "        for p in new_prof:\n",
    "            display(p)\n",
    "    else:\n",
    "        assert expected_profiles is None\n",
    "        assert expected_winner is None\n",
    "        return \n",
    "    \n",
    "    assert winner == expected_winner\n",
    "    profile_check_pass = False\n",
    "    for p in expected_profiles:\n",
    "        if new_prof[manipulation_voter].equals(p):\n",
    "            profile_check_pass = True\n",
    "    assert profile_check_pass"
   ]
  },
  {
   "cell_type": "markdown",
   "metadata": {},
   "source": [
    "## ex. 1\n",
    "\n",
    "Manipulating voter: voter_1\n",
    "\n",
    "Rule: Veto, k=1\n",
    "\n",
    "Order of alternatives: 0: a_0, 1:a_1, 2: a_2\n",
    "\n",
    "- Omission_allowed: yes, Addition_allowed: yes, Flips_allowed: yes . Result:\n",
    "\n",
    "Alternative 1 is preferred. Manipulation happened.\n",
    "New preference of voter_1:  [[0,0,0],[0,0,0],[0,0,0]]\n",
    "\n",
    "- Omission_allowed: no, Addition_allowed: yes, Flips_allowed: yes . Result:\n",
    "\n",
    "Alternative 1 is preferred. Manipulation happened.\n",
    "New preference of voter_1:  [[0,1,1],[-1,0,1],[-1,-1,0]] or  [[0,-1,-1],[1,0,-1],[1,1,0]]\n",
    "\n",
    "- Omission_allowed: no, Addition_allowed: no, Flips_allowed: yes . Result:\n",
    "\n",
    "No manipulation possible"
   ]
  },
  {
   "cell_type": "code",
   "execution_count": 11,
   "metadata": {},
   "outputs": [],
   "source": [
    "exp_winner = 1\n",
    "exp_profs = [pd.DataFrame({0: [0,0,0], 1: [0,0,0], 2:[0,0,0]})]\n",
    "test(examples[1], 1, 1, 'veto', True, True, True, exp_winner, exp_profs, verbose=False)"
   ]
  },
  {
   "cell_type": "code",
   "execution_count": 12,
   "metadata": {},
   "outputs": [],
   "source": [
    "exp_winner = 1\n",
    "exp_profs = [pd.DataFrame({0: [0,-1,-1], 1: [1,0,-1], 2:[0,1,0]}), pd.DataFrame({0: [0,1,1], 1: [-1,0,1], 2:[-1,-1,0]}), pd.DataFrame({0: [0,-1,-1], 1: [1,0,-1], 2:[1,1,0]})]\n",
    "test(examples[1], 1, 1, 'veto', False, True, True, exp_winner, exp_profs)"
   ]
  },
  {
   "cell_type": "code",
   "execution_count": 13,
   "metadata": {},
   "outputs": [],
   "source": [
    "test(examples[1], 1, 1, 'veto', False, False, True, None, None)"
   ]
  },
  {
   "cell_type": "markdown",
   "metadata": {},
   "source": [
    "## ex. 2\n",
    "\n",
    "Manipulating voter: voter_1\n",
    "\n",
    "Rule: Veto, k=1\n",
    "\n",
    "Order of alternatives: 0: a_0, 1:a_1, 2: a_2\n",
    "\n",
    "- Omission_allowed: yes, Addition_allowed: no, Flips_allowed: yes . Result:\n",
    "\n",
    "Alternative 1 is preferred. Manipulation happened.\n",
    "New preference of voter_1: [[0,0,0],[0,0,-1],[0,1,0]]\n",
    "\n",
    "\n",
    "- Omission_allowed: yes, Addition_allowed: yes, Flips_allowed: no. Result:\n",
    "\n",
    "Alternative 1 is preferred. Manipulation happened.\n",
    "New preference of voter_1: [[0,1,1],[-1,0,1],[-1,-1,0]]\n",
    "\n",
    "- Omission_allowed: yes, Addition_allowed: yes, Flips_allowed: yes. Result:\n",
    "\n",
    "Alternative 1 is preferred. Manipulation happened.\n",
    "New preference of voter_1: [[0,1,1],[-1,0,1],[-1,-1,0]] or [[0,0,0],[0,0,-1],[0,1,0]]\n",
    "\n",
    "- Omission_allowed: yes, Addition_allowed: no, Flips_allowed: no. Result:\n",
    "No manipulation possible"
   ]
  },
  {
   "cell_type": "code",
   "execution_count": 14,
   "metadata": {},
   "outputs": [],
   "source": [
    "exp_winner = 1\n",
    "exp_profs = [pd.DataFrame({0: [0,0,0], 1: [0,0,-1], 2:[0,1,0]})]\n",
    "test(examples[2], 1, 1, 'veto', True, False, True, exp_winner, exp_profs)"
   ]
  },
  {
   "cell_type": "code",
   "execution_count": 16,
   "metadata": {},
   "outputs": [],
   "source": [
    "exp_winner = 1\n",
    "exp_profs = [pd.DataFrame({0: [0,1,1], 1: [-1,0,1], 2:[-1,-1,0]})]\n",
    "test(examples[2], 1, 1, 'veto', True, True, False, exp_winner, exp_profs)"
   ]
  },
  {
   "cell_type": "code",
   "execution_count": 19,
   "metadata": {},
   "outputs": [],
   "source": [
    "exp_winner = 1\n",
    "exp_profs = [pd.DataFrame({0: [0,1,1], 1: [-1,0,1], 2:[-1,-1,0]}), pd.DataFrame({0: [0,0,0], 1: [0,0,-1], 2:[0,1,0]})]\n",
    "test(examples[2], 1, 1, 'veto', True, True, True, exp_winner, exp_profs)"
   ]
  },
  {
   "cell_type": "code",
   "execution_count": 18,
   "metadata": {},
   "outputs": [],
   "source": [
    "test(examples[2], 1, 1, 'veto', True, False, False, None, None)"
   ]
  },
  {
   "cell_type": "markdown",
   "metadata": {},
   "source": [
    "## ex. 3\n",
    "approval\n",
    "k=1\n",
    "voter=0\n",
    "- All allowed: Manipulation happened.  alternative 3 is preferred. \n",
    "\n",
    "- No addition allowed: No manipulation possible."
   ]
  },
  {
   "cell_type": "code",
   "execution_count": null,
   "metadata": {},
   "outputs": [
    {
     "name": "stdout",
     "output_type": "stream",
     "text": [
      "Starting manipulation move\n",
      "investigating alternative 3\n",
      "p_score=0, winner_score=1\n",
      "Alternative 3 is preferred. Investigating possible manipulation.\n",
      "in tree_generation_level_1_onwards\n",
      "in examine_matrices_cost_2\n",
      "all generated matrices so far 16\n",
      "in examine_matrices_cost_1\n",
      "all generated matrices so far 16\n",
      "new_max_cost_so_far: 2\n",
      "iteration took 0.9177651405334473 sec.\n",
      "in examine_matrices_cost_1\n",
      "all generated matrices so far 208\n",
      "in examine_matrices_cost_2\n",
      "all generated matrices so far 208\n",
      "new_max_cost_so_far: 3\n",
      "iteration took 24.886722087860107 sec.\n",
      "in examine_matrices_cost_2\n",
      "all generated matrices so far 2257\n",
      "in examine_matrices_cost_1\n"
     ]
    }
   ],
   "source": [
    "exp_winner = 3\n",
    "exp_profs = [pd.DataFrame({0: [0,1,1], 1: [-1,0,1], 2:[-1,-1,0]}), pd.DataFrame({0: [0,0,0], 1: [0,0,-1], 2:[0,1,0]})]\n",
    "test(examples[3], 0, 1, 'approval', True, True, True, exp_winner, exp_profs, verbose=True)"
   ]
  },
  {
   "cell_type": "code",
   "execution_count": 22,
   "metadata": {},
   "outputs": [],
   "source": [
    "test(examples[3], 0, 1, 'approval', True, False, True, None, None)"
   ]
  },
  {
   "cell_type": "markdown",
   "metadata": {},
   "source": [
    "## ex. 4\n",
    "approval\n",
    "k=2\n",
    "voter=0\n",
    "- All allowed: Manipulation happened.  New preference of voter_0: [[0,-1,-1],[1,0,-1],[1,1,0]]\n",
    "- No addition allowed: No manipulation possible."
   ]
  },
  {
   "cell_type": "code",
   "execution_count": 19,
   "metadata": {},
   "outputs": [],
   "source": [
    "exp_winner = 0\n",
    "exp_profs = [pd.DataFrame({0: [0,-1,-1], 1: [1,0,-1], 2:[1,1,0]})]\n",
    "test(examples[4], 0, 2, 'approval', True, True, True, exp_winner, exp_profs)"
   ]
  },
  {
   "cell_type": "code",
   "execution_count": 22,
   "metadata": {},
   "outputs": [],
   "source": [
    "test(examples[4], 0, 2, 'approval', True, False, True, None, None)"
   ]
  },
  {
   "cell_type": "code",
   "execution_count": null,
   "metadata": {},
   "outputs": [],
   "source": []
  }
 ],
 "metadata": {
  "kernelspec": {
   "display_name": "Python 3",
   "language": "python",
   "name": "python3"
  },
  "language_info": {
   "codemirror_mode": {
    "name": "ipython",
    "version": 3
   },
   "file_extension": ".py",
   "mimetype": "text/x-python",
   "name": "python",
   "nbconvert_exporter": "python",
   "pygments_lexer": "ipython3",
   "version": "3.8.5"
  }
 },
 "nbformat": 4,
 "nbformat_minor": 4
}
