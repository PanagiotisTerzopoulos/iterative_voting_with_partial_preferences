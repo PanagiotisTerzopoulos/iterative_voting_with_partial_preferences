{
 "cells": [
  {
   "cell_type": "code",
<<<<<<< Updated upstream
   "execution_count": 1,
=======
   "execution_count": 10,
>>>>>>> Stashed changes
   "metadata": {},
   "outputs": [],
   "source": [
    "import dill\n",
    "from main.manipulation import Manipulation\n",
    "from main.data_processing import evaluate_profile, create_graph_from_matrix\n",
    "import pandas as pd\n",
    "from main.manipulation_utils import get_children_generation_options, check_transitivity, one_cost_children_generation, useful_change\n",
    "from IPython.display import display\n",
    "import matplotlib.pyplot as plt\n",
    "from tqdm import tqdm"
   ]
  },
  {
   "cell_type": "markdown",
   "metadata": {},
   "source": [
    "All examples have two voters. I write the preferences column-by-column.\n",
    "------------\n",
    "\n",
    "## ex. 1\n",
    "\n",
    "Manipulating voter: voter_1\n",
    "\n",
    "Rule: Veto, k=1\n",
    "\n",
    "Order of alternatives: 0: a_0, 1:a_1, 2: a_2\n",
    "\n",
    "- Omission_allowed: yes, Addition_allowed: yes, Flips_allowed: yes . Result:\n",
    "\n",
    "Alternative 1 is preferred. Manipulation happened.\n",
    "New preference of voter_1:  [[0,0,0],[0,0,0],[0,0,0]]\n",
    "\n",
    "- Omission_allowed: no, Addition_allowed: yes, Flips_allowed: yes . Result:\n",
    "\n",
    "Alternative 1 is preferred. Manipulation happened.\n",
    "New preference of voter_1:  [[0,1,1],[-1,0,1],[-1,-1,0]] or  [[0,-1,-1],[1,0,-1],[1,1,0]]\n",
    "\n",
    "- Omission_allowed: no, Addition_allowed: no, Flips_allowed: yes . Result:\n",
    "\n",
    "No manipulation possible\n",
    "\n",
    "-------------\n",
    "## ex. 2\n",
    "\n",
    "Manipulating voter: voter_1\n",
    "\n",
    "Rule: Veto, k=1\n",
    "\n",
    "Order of alternatives: 0: a_0, 1:a_1, 2: a_2\n",
    "\n",
    "- Omission_allowed: yes, Addition_allowed: no, Flips_allowed: yes . Result:\n",
    "\n",
    "Alternative 1 is preferred. Manipulation happened.\n",
    "New preference of voter_1: [[0,0,0],[0,0,-1],[0,1,0]]\n",
    "\n",
    "\n",
    "- Omission_allowed: yes, Addition_allowed: yes, Flips_allowed: no. Result:\n",
    "\n",
    "Alternative 1 is preferred. Manipulation happened.\n",
    "New preference of voter_1: [[0,1,1],[-1,0,1],[-1,-1,0]]\n",
    "\n",
    "- Omission_allowed: yes, Addition_allowed: yes, Flips_allowed: yes. Result:\n",
    "\n",
    "Alternative 1 is preferred. Manipulation happened.\n",
    "New preference of voter_1: [[0,1,1],[-1,0,1],[-1,-1,0]] or [[0,0,0],[0,0,-1],[0,1,0]]\n",
    "\n",
    "- Omission_allowed: yes, Addition_allowed: no, Flips_allowed: no. Result:\n",
    "No manipulation possible\n",
    "-------------\n",
    "## ex. 3\n",
    "approval\n",
    "k=1\n",
    "voter=0\n",
    "- All allowed: Manipulation happened.  alternative 3 is preferred. \n",
    "\n",
    "- No addition allowed: No manipulation possible.\n",
    "-------------\n",
    "## ex. 4\n",
    "approval\n",
    "k=2\n",
    "voter=0\n",
    "- All allowed: Manipulation happened.  New preference of voter_0: [[0,-1,-1],[1,0,-1],[1,1,0]]\n",
    "- No addition allowed: No manipulation possible."
   ]
  },
  {
   "cell_type": "code",
<<<<<<< Updated upstream
   "execution_count": 2,
=======
   "execution_count": 11,
>>>>>>> Stashed changes
   "metadata": {},
   "outputs": [],
   "source": [
    "# examples.values[0]: (current_prefs[voters[preference]], true_prefs[voters[preference]])\n",
    "examples = {\n",
    "    1: (\n",
    "        (pd.DataFrame({0: [0,1,1], 1: [-1,0,1], 2:[-1,-1,0]}), pd.DataFrame({0: [0,-1,0], 1: [1,0,1], 2:[0,-1,0]})),\n",
    "        (pd.DataFrame({0: [0,1,1], 1: [-1,0,1], 2:[-1,-1,0]}), pd.DataFrame({0: [0,0,0], 1: [0,0,-1], 2:[0,1,0]}))\n",
    "    ),\n",
    "    2: (\n",
    "        (pd.DataFrame({0: [0,0,0], 1: [0,0,0], 2:[0,0,0]}), pd.DataFrame({0: [0,0,0], 1: [0,0,1], 2:[0,-1,0]})),\n",
    "        (pd.DataFrame({0: [0,0,0], 1: [0,0,0], 2:[0,0,0]}),pd.DataFrame({0: [0,0,0], 1: [0,0,-1], 2:[0,1,0]}))\n",
    "    ),\n",
    "    3: (\n",
    "        (pd.DataFrame({0: [0,0,0,0], 1: [0,0,0,-1], 2:[0,0,0,-1], 3: [0,1,1,0]}), pd.DataFrame({0: [0,0,0,0], 1: [0,0,0,0], 2:[0,0,0,0], 3: [0,0,0,0]})),\n",
    "        (pd.DataFrame({0: [0,1,1,1], 1: [-1,0,1,1], 2:[-1,-1,0,1], 3: [-1,-1,-1,0]}), pd.DataFrame({0: [0,0,0,0], 1: [0,0,0,0], 2:[0,0,0,0], 3: [0,0,0,0]}))\n",
    "    ),\n",
    "    4: (\n",
    "        (pd.DataFrame({0: [0,-1,-1], 1: [1,0,0], 2:[1,0,0]}), pd.DataFrame({0: [0,-1,1], 1: [1,0,1], 2:[-1,-1,0]}), pd.DataFrame({0: [0,1,1], 1: [-1,0,1], 2:[-1,-1,0]})),\n",
    "        (pd.DataFrame({0: [0,-1,-1], 1: [1,0,0], 2:[1,0,0]}), pd.DataFrame({0: [0,-1,1], 1: [1,0,1], 2:[-1,-1,0]}), pd.DataFrame({0: [0,1,1], 1: [-1,0,1], 2:[-1,-1,0]}))\n",
    "    )\n",
    "}\n"
   ]
  },
  {
   "cell_type": "code",
<<<<<<< Updated upstream
   "execution_count": 3,
=======
   "execution_count": 12,
>>>>>>> Stashed changes
   "metadata": {},
   "outputs": [],
   "source": [
    "data_to_test = examples[1]"
   ]
  },
  {
   "cell_type": "code",
<<<<<<< Updated upstream
   "execution_count": 4,
=======
   "execution_count": 13,
>>>>>>> Stashed changes
   "metadata": {},
   "outputs": [],
   "source": [
    "alph_order = {}\n",
    "for i in data_to_test[0][0].index:\n",
    "    alph_order[i] = i\n",
    "\n",
    "manipulation_voter=1\n",
    "k=1\n",
    "rule='veto'"
   ]
  },
  {
   "cell_type": "code",
<<<<<<< Updated upstream
   "execution_count": 5,
=======
   "execution_count": 14,
>>>>>>> Stashed changes
   "metadata": {},
   "outputs": [],
   "source": [
    "winner, possible_winners, scores_of_alternatives = evaluate_profile(graphs=data_to_test[0], k=k, method=rule, alphabetical_order=alph_order)"
   ]
  },
  {
   "cell_type": "code",
<<<<<<< Updated upstream
   "execution_count": 6,
=======
   "execution_count": 15,
>>>>>>> Stashed changes
   "metadata": {},
   "outputs": [
    {
     "name": "stdout",
     "output_type": "stream",
     "text": [
      "2\n",
      "[0, 1]\n",
      "{'0': 1, '1': 1, '2': 2}\n"
     ]
    }
   ],
   "source": [
    "print(winner)\n",
    "print(possible_winners)\n",
    "print(scores_of_alternatives)"
   ]
  },
  {
   "cell_type": "code",
<<<<<<< Updated upstream
   "execution_count": 7,
=======
   "execution_count": 16,
>>>>>>> Stashed changes
   "metadata": {},
   "outputs": [],
   "source": [
    "man = Manipulation(\n",
    "    all_preferences=data_to_test[0],\n",
    "    preference_idx=manipulation_voter,\n",
    "    winner=winner,\n",
    "    truthful_profile=data_to_test[1],\n",
    "    possible_winners=possible_winners,\n",
    "    scores_of_alternatives=scores_of_alternatives,\n",
    "    alphabetical_order_of_alternatives=alph_order,\n",
    "    method=rule,\n",
    "    k=k,\n",
<<<<<<< Updated upstream
    "    do_additions=True,\n",
=======
    "    do_additions=False,\n",
>>>>>>> Stashed changes
    "    do_omissions=True,\n",
    "    do_flips=True,\n",
    "    verbose=True,\n",
    "    hard_exit_time_limit=30\n",
    ")"
   ]
  },
  {
   "cell_type": "code",
<<<<<<< Updated upstream
   "execution_count": 8,
=======
   "execution_count": 17,
>>>>>>> Stashed changes
   "metadata": {},
   "outputs": [
    {
     "name": "stdout",
     "output_type": "stream",
     "text": [
      "Alternative 1 is preferred. Investigating possible manipulation.\n",
      "in tree_generation_level_1_onwards\n",
      "in examine_matrices_cost_1\n",
<<<<<<< Updated upstream
      "all generated matrices so far 5\n",
      "Manipulation happened!\n",
      "took total time 1.05849027633667\n"
=======
      "all generated matrices so far 2\n",
      "in examine_matrices_cost_2\n",
      "all generated matrices so far 2\n",
      "new_max_cost_so_far: 2\n",
      "iteration took 0.0242311954498291 sec.\n",
      "in examine_matrices_cost_1\n",
      "all generated matrices so far 5\n",
      "Manipulation happened!\n",
      "took total time 0.8394219875335693\n"
>>>>>>> Stashed changes
     ]
    }
   ],
   "source": [
    "result = man.manipulation_move()\n",
    "if result is not None:\n",
    "    new_prof, winner = result\n",
    "else:\n",
    "    new_prof = None\n",
    "    winner = None"
   ]
  },
  {
   "cell_type": "code",
<<<<<<< Updated upstream
   "execution_count": 9,
=======
   "execution_count": 18,
>>>>>>> Stashed changes
   "metadata": {},
   "outputs": [
    {
     "data": {
      "text/html": [
       "<div>\n",
       "<style scoped>\n",
       "    .dataframe tbody tr th:only-of-type {\n",
       "        vertical-align: middle;\n",
       "    }\n",
       "\n",
       "    .dataframe tbody tr th {\n",
       "        vertical-align: top;\n",
       "    }\n",
       "\n",
       "    .dataframe thead th {\n",
       "        text-align: right;\n",
       "    }\n",
       "</style>\n",
       "<table border=\"1\" class=\"dataframe\">\n",
       "  <thead>\n",
       "    <tr style=\"text-align: right;\">\n",
       "      <th></th>\n",
       "      <th>0</th>\n",
       "      <th>1</th>\n",
       "      <th>2</th>\n",
       "    </tr>\n",
       "  </thead>\n",
       "  <tbody>\n",
       "    <tr>\n",
       "      <th>0</th>\n",
       "      <td>0</td>\n",
       "      <td>-1</td>\n",
       "      <td>-1</td>\n",
       "    </tr>\n",
       "    <tr>\n",
       "      <th>1</th>\n",
       "      <td>1</td>\n",
       "      <td>0</td>\n",
       "      <td>-1</td>\n",
       "    </tr>\n",
       "    <tr>\n",
       "      <th>2</th>\n",
       "      <td>1</td>\n",
       "      <td>1</td>\n",
       "      <td>0</td>\n",
       "    </tr>\n",
       "  </tbody>\n",
       "</table>\n",
       "</div>"
      ],
      "text/plain": [
       "   0  1  2\n",
       "0  0 -1 -1\n",
       "1  1  0 -1\n",
       "2  1  1  0"
      ]
     },
     "metadata": {},
     "output_type": "display_data"
    },
    {
     "data": {
      "text/html": [
       "<div>\n",
       "<style scoped>\n",
       "    .dataframe tbody tr th:only-of-type {\n",
       "        vertical-align: middle;\n",
       "    }\n",
       "\n",
       "    .dataframe tbody tr th {\n",
       "        vertical-align: top;\n",
       "    }\n",
       "\n",
       "    .dataframe thead th {\n",
       "        text-align: right;\n",
       "    }\n",
       "</style>\n",
       "<table border=\"1\" class=\"dataframe\">\n",
       "  <thead>\n",
       "    <tr style=\"text-align: right;\">\n",
       "      <th></th>\n",
       "      <th>0</th>\n",
       "      <th>1</th>\n",
       "      <th>2</th>\n",
       "    </tr>\n",
       "  </thead>\n",
       "  <tbody>\n",
       "    <tr>\n",
       "      <th>0</th>\n",
       "      <td>0</td>\n",
<<<<<<< Updated upstream
       "      <td>0</td>\n",
=======
       "      <td>-1</td>\n",
>>>>>>> Stashed changes
       "      <td>0</td>\n",
       "    </tr>\n",
       "    <tr>\n",
       "      <th>1</th>\n",
<<<<<<< Updated upstream
       "      <td>0</td>\n",
=======
       "      <td>1</td>\n",
>>>>>>> Stashed changes
       "      <td>0</td>\n",
       "      <td>0</td>\n",
       "    </tr>\n",
       "    <tr>\n",
       "      <th>2</th>\n",
       "      <td>0</td>\n",
       "      <td>0</td>\n",
       "      <td>0</td>\n",
       "    </tr>\n",
       "  </tbody>\n",
       "</table>\n",
       "</div>"
      ],
      "text/plain": [
       "   0  1  2\n",
<<<<<<< Updated upstream
       "0  0  0  0\n",
       "1  0  0  0\n",
=======
       "0  0 -1  0\n",
       "1  1  0  0\n",
>>>>>>> Stashed changes
       "2  0  0  0"
      ]
     },
     "metadata": {},
     "output_type": "display_data"
    }
   ],
   "source": [
    "for p in new_prof:\n",
    "    display(p)"
   ]
  },
  {
   "cell_type": "code",
   "execution_count": null,
   "metadata": {},
   "outputs": [],
   "source": []
  },
  {
   "cell_type": "code",
   "execution_count": null,
   "metadata": {},
   "outputs": [],
   "source": []
  },
  {
   "cell_type": "code",
   "execution_count": null,
   "metadata": {},
   "outputs": [],
   "source": []
  },
  {
   "cell_type": "code",
   "execution_count": null,
   "metadata": {},
   "outputs": [],
   "source": []
  }
 ],
 "metadata": {
  "kernelspec": {
   "display_name": "Python 3",
   "language": "python",
   "name": "python3"
  },
  "language_info": {
   "codemirror_mode": {
    "name": "ipython",
    "version": 3
   },
   "file_extension": ".py",
   "mimetype": "text/x-python",
   "name": "python",
   "nbconvert_exporter": "python",
   "pygments_lexer": "ipython3",
   "version": "3.8.5"
  }
 },
 "nbformat": 4,
 "nbformat_minor": 4
}
