{
 "cells": [
  {
   "cell_type": "code",
   "execution_count": 1,
   "metadata": {},
   "outputs": [],
   "source": [
    "import dill\n",
    "from main.manipulation import Manipulation\n",
    "from main.data_processing import evaluate_profile, create_graph_from_matrix\n",
    "import pandas as pd\n",
    "from main.manipulation_utils import get_children_generation_options, check_transitivity, one_cost_children_generation, useful_change\n",
    "from IPython.display import display\n",
    "import matplotlib.pyplot as plt\n",
    "from tqdm import tqdm\n",
    "import numpy as np\n",
    "import random"
   ]
  },
  {
   "cell_type": "code",
   "execution_count": 4,
   "metadata": {},
   "outputs": [],
   "source": [
    "with open('data/results/total_result.pkl', 'rb') as f:\n",
    "    results = dill.load(f)"
   ]
  },
  {
   "cell_type": "code",
   "execution_count": 17,
   "metadata": {},
   "outputs": [
    {
     "name": "stdout",
     "output_type": "stream",
     "text": [
      "(3, 20, 'ic', 142, 1, 'veto', 100, 0, True, True, True, True)\n",
      "(3, 50, 'ic', 6, 1, 'veto', 100, 0, True, True, True, True)\n",
      "(3, 50, 'ic', 32, 1, 'veto', 100, 0, True, True, True, True)\n",
      "(3, 50, 'ic', 47, 1, 'veto', 100, 0, True, True, True, True)\n",
      "(3, 50, 'ic', 53, 1, 'veto', 100, 0, True, True, True, True)\n",
      "(3, 50, 'ic', 70, 1, 'veto', 100, 0, True, True, True, True)\n",
      "(3, 50, 'ic', 71, 1, 'veto', 100, 0, True, True, True, True)\n",
      "(3, 50, 'ic', 96, 1, 'veto', 100, 0, True, True, True, True)\n",
      "(3, 50, 'ic', 102, 1, 'veto', 100, 0, True, True, True, True)\n",
      "(3, 50, 'ic', 118, 1, 'veto', 100, 0, True, True, True, True)\n",
      "(3, 50, 'ic', 124, 1, 'veto', 100, 0, True, True, True, True)\n",
      "(3, 50, 'ic', 130, 1, 'veto', 100, 0, True, True, True, True)\n",
      "(3, 50, 'ic', 138, 1, 'veto', 100, 0, True, True, True, True)\n",
      "(3, 50, 'ic', 142, 1, 'veto', 100, 0, True, True, True, True)\n",
      "(3, 50, 'ic', 146, 1, 'veto', 100, 0, True, True, True, True)\n",
      "(3, 50, 'ic', 154, 1, 'veto', 100, 0, True, True, True, True)\n",
      "(3, 50, 'ic', 167, 1, 'veto', 100, 0, True, True, True, True)\n",
      "(3, 50, 'ic', 173, 1, 'veto', 100, 0, True, True, True, True)\n",
      "(3, 50, 'ic', 175, 1, 'veto', 100, 0, True, True, True, True)\n",
      "(3, 50, 'ic', 66, 1, 'veto', 100, 0, True, True, True, False)\n",
      "(4, 20, 'ic', 2, 1, 'veto', 100, 0, True, True, True, True)\n",
      "(4, 20, 'ic', 7, 1, 'veto', 100, 0, True, True, True, True)\n",
      "(4, 20, 'ic', 22, 1, 'veto', 100, 0, True, True, True, True)\n",
      "(4, 20, 'ic', 50, 1, 'veto', 100, 0, True, True, True, True)\n",
      "(4, 20, 'ic', 143, 1, 'veto', 100, 0, True, True, True, True)\n",
      "(4, 20, 'ic', 146, 1, 'veto', 100, 0, True, True, True, True)\n",
      "(4, 20, 'ic', 163, 1, 'veto', 100, 0, True, True, True, True)\n",
      "(4, 20, 'ic', 174, 1, 'veto', 100, 0, True, True, True, True)\n",
      "(4, 20, '2urn', 69, 1, 'veto', 100, 0, True, True, True, True)\n",
      "(4, 50, 'ic', 3, 1, 'veto', 100, 0, True, True, True, True)\n",
      "(4, 50, 'ic', 10, 1, 'veto', 100, 0, True, True, True, True)\n",
      "(4, 50, 'ic', 11, 1, 'veto', 100, 0, True, True, True, True)\n",
      "(4, 50, 'ic', 21, 1, 'veto', 100, 0, True, True, True, True)\n"
     ]
    }
   ],
   "source": [
    "new_dict = {}\n",
    "for k, v in results.items():\n",
    "    new_dict[(k[0], k[0], k[0], k[0], k[0], k[0], k[0], k[0], k[0], k[0], k[0])] = "
   ]
  },
  {
   "cell_type": "code",
   "execution_count": 3,
   "metadata": {},
   "outputs": [
    {
     "data": {
      "text/plain": [
       "[(6, 10, '2urn', 0, 1, 'approval', 100, 0, True, True, True, True)]"
      ]
     },
     "execution_count": 3,
     "metadata": {},
     "output_type": "execute_result"
    }
   ],
   "source": [
    "[k for k in results.keys() if k[0]==6 and k[1]==10 and k[2]=='2urn' and k [3]==0]"
   ]
  },
  {
   "cell_type": "markdown",
   "metadata": {},
   "source": [
    "# Seeing what exists in our results and what is missing"
   ]
  },
  {
   "cell_type": "code",
   "execution_count": 6,
   "metadata": {},
   "outputs": [
    {
     "name": "stdout",
     "output_type": "stream",
     "text": [
      "9 1\n"
     ]
    },
    {
     "data": {
      "text/plain": [
       "[(6, 10, '2urn', 0, 1, 'approval', 100, 0, True, True, True, False),\n",
       " (6, 20, '2urn', 0, 1, 'approval', 100, 0, True, True, True, False),\n",
       " (7, 10, 'ic', 0, 1, 'approval', 100, 0, True, True, True, True),\n",
       " (7, 10, 'ic', 0, 1, 'approval', 100, 0, True, True, True, False),\n",
       " (7, 10, '2urn', 0, 1, 'approval', 100, 0, True, True, True, True),\n",
       " (7, 20, 'ic', 0, 1, 'approval', 100, 0, True, True, True, True),\n",
       " (7, 20, '2urn', 0, 1, 'approval', 100, 0, True, True, True, True),\n",
       " (7, 50, 'ic', 0, 1, 'approval', 100, 0, True, True, True, True),\n",
       " (7, 50, '2urn', 0, 1, 'approval', 100, 0, True, True, True, True)]"
      ]
     },
     "execution_count": 6,
     "metadata": {},
     "output_type": "execute_result"
    }
   ],
   "source": [
    "res = results\n",
    "\n",
    "hard_exit_keys = []\n",
    "missing_keys = []\n",
    "for num_alt in [3, 4, 5, 6, 7]:\n",
    "    for num_vot in [10, 20, 50]:\n",
    "        for method in ['approval']:\n",
    "            for data_type in ['ic', '2urn']:\n",
    "                for completeness in [True, False]:\n",
    "#                     for random_prof in range(200):\n",
    "                    for random_prof in [0]:\n",
    "                        key = (num_alt, num_vot, data_type, random_prof, 1, method, 100, 0, True, True, True, completeness)\n",
    "                        if key not in res.keys():\n",
    "                            missing_keys.append(key)\n",
    "                        elif res[key] == 'hard_exit':\n",
    "                            hard_exit_keys.append(key)\n",
    "\n",
    "print(len(set(missing_keys)), len(set(hard_exit_keys)))\n",
    "\n",
    "missing_keys"
   ]
  },
  {
   "cell_type": "code",
   "execution_count": null,
   "metadata": {},
   "outputs": [],
   "source": []
  },
  {
   "cell_type": "code",
   "execution_count": null,
   "metadata": {},
   "outputs": [],
   "source": []
  },
  {
   "cell_type": "code",
   "execution_count": 13,
   "metadata": {},
   "outputs": [],
   "source": [
    "old_keys = list(results.keys())\n",
    "for old_key in old_keys:\n",
    "    new_key = (old_key[0], old_key[1], old_key[2], old_key[3], old_key[4], old_key[5], old_key[6], old_key[7], True, True, True, True)\n",
    "    results[new_key] = results.pop(old_key)"
   ]
  },
  {
   "cell_type": "code",
   "execution_count": 17,
   "metadata": {},
   "outputs": [],
   "source": [
    "with open('data/results/total_result.pkl', 'wb') as f:\n",
    "    dill.dump(results, f)"
   ]
  },
  {
   "cell_type": "code",
   "execution_count": null,
   "metadata": {},
   "outputs": [],
   "source": []
  },
  {
   "cell_type": "code",
   "execution_count": 82,
   "metadata": {},
   "outputs": [],
   "source": [
    "new_keys = []\n",
    "for k in results.keys():\n",
    "    new_keys.append([k[i] for i in range(len(k)) if i!=3])    "
   ]
  },
  {
   "cell_type": "code",
   "execution_count": 83,
   "metadata": {},
   "outputs": [],
   "source": [
    "import itertools\n",
    "new_keys.sort()\n",
    "new_keys = list(new_keys for new_keys,_ in itertools.groupby(new_keys))"
   ]
  },
  {
   "cell_type": "code",
   "execution_count": 84,
   "metadata": {},
   "outputs": [
    {
     "data": {
      "text/plain": [
       "[[3, 10, '2urn', 1, 'approval', 100, 0, True, True, True],\n",
       " [3, 10, '2urn', 1, 'veto', 100, 0, True, True, True],\n",
       " [3, 10, 'ic', 1, 'approval', 100, 0, True, True, True],\n",
       " [3, 10, 'ic', 1, 'veto', 100, 0, True, True, True],\n",
       " [3, 20, '2urn', 1, 'approval', 100, 0, True, True, True],\n",
       " [3, 20, '2urn', 1, 'veto', 100, 0, True, True, True],\n",
       " [3, 20, 'ic', 1, 'approval', 100, 0, True, True, True],\n",
       " [3, 20, 'ic', 1, 'veto', 100, 0, True, True, True],\n",
       " [3, 50, '2urn', 1, 'approval', 100, 0, True, True, True],\n",
       " [3, 50, '2urn', 1, 'veto', 100, 0, True, True, True],\n",
       " [3, 50, 'ic', 1, 'approval', 100, 0, True, True, True],\n",
       " [3, 50, 'ic', 1, 'veto', 100, 0, True, True, True],\n",
       " [5, 10, '2urn', 1, 'approval', 100, 0, True, True, True],\n",
       " [5, 10, 'ic', 1, 'approval', 100, 0, True, True, True],\n",
       " [5, 10, 'ic', 1, 'veto', 100, 0, True, True, True]]"
      ]
     },
     "execution_count": 84,
     "metadata": {},
     "output_type": "execute_result"
    }
   ],
   "source": [
    "new_keys"
   ]
  },
  {
   "cell_type": "code",
   "execution_count": 86,
   "metadata": {
    "scrolled": true
   },
   "outputs": [
    {
     "name": "stderr",
     "output_type": "stream",
     "text": [
      " 60%|██████    | 9/15 [00:00<00:00, 86.77it/s]"
     ]
    },
    {
     "name": "stdout",
     "output_type": "stream",
     "text": [
      "(5, 10, 'ic', 101, 1, 'veto', 100, 0, True, True, True)\n",
      "(5, 10, 'ic', 102, 1, 'veto', 100, 0, True, True, True)\n",
      "(5, 10, 'ic', 103, 1, 'veto', 100, 0, True, True, True)\n",
      "(5, 10, 'ic', 104, 1, 'veto', 100, 0, True, True, True)\n",
      "(5, 10, 'ic', 105, 1, 'veto', 100, 0, True, True, True)\n",
      "(5, 10, 'ic', 106, 1, 'veto', 100, 0, True, True, True)\n",
      "(5, 10, 'ic', 107, 1, 'veto', 100, 0, True, True, True)\n",
      "(5, 10, 'ic', 108, 1, 'veto', 100, 0, True, True, True)\n",
      "(5, 10, 'ic', 109, 1, 'veto', 100, 0, True, True, True)\n",
      "(5, 10, 'ic', 110, 1, 'veto', 100, 0, True, True, True)\n",
      "(5, 10, 'ic', 111, 1, 'veto', 100, 0, True, True, True)\n",
      "(5, 10, 'ic', 112, 1, 'veto', 100, 0, True, True, True)\n",
      "(5, 10, 'ic', 113, 1, 'veto', 100, 0, True, True, True)\n",
      "(5, 10, 'ic', 114, 1, 'veto', 100, 0, True, True, True)\n",
      "(5, 10, 'ic', 115, 1, 'veto', 100, 0, True, True, True)\n",
      "(5, 10, 'ic', 116, 1, 'veto', 100, 0, True, True, True)\n",
      "(5, 10, 'ic', 117, 1, 'veto', 100, 0, True, True, True)\n",
      "(5, 10, 'ic', 118, 1, 'veto', 100, 0, True, True, True)\n",
      "(5, 10, 'ic', 119, 1, 'veto', 100, 0, True, True, True)\n",
      "(5, 10, 'ic', 120, 1, 'veto', 100, 0, True, True, True)\n",
      "(5, 10, 'ic', 121, 1, 'veto', 100, 0, True, True, True)\n",
      "(5, 10, 'ic', 122, 1, 'veto', 100, 0, True, True, True)\n",
      "(5, 10, 'ic', 123, 1, 'veto', 100, 0, True, True, True)\n",
      "(5, 10, 'ic', 124, 1, 'veto', 100, 0, True, True, True)\n",
      "(5, 10, 'ic', 125, 1, 'veto', 100, 0, True, True, True)\n",
      "(5, 10, 'ic', 126, 1, 'veto', 100, 0, True, True, True)\n",
      "(5, 10, 'ic', 127, 1, 'veto', 100, 0, True, True, True)\n",
      "(5, 10, 'ic', 128, 1, 'veto', 100, 0, True, True, True)\n",
      "(5, 10, 'ic', 129, 1, 'veto', 100, 0, True, True, True)\n",
      "(5, 10, 'ic', 130, 1, 'veto', 100, 0, True, True, True)\n",
      "(5, 10, 'ic', 131, 1, 'veto', 100, 0, True, True, True)\n",
      "(5, 10, 'ic', 132, 1, 'veto', 100, 0, True, True, True)"
     ]
    },
    {
     "name": "stderr",
     "output_type": "stream",
     "text": [
      "100%|██████████| 15/15 [00:00<00:00, 25.17it/s]"
     ]
    },
    {
     "name": "stdout",
     "output_type": "stream",
     "text": [
      "\n",
      "(5, 10, 'ic', 133, 1, 'veto', 100, 0, True, True, True)\n",
      "(5, 10, 'ic', 134, 1, 'veto', 100, 0, True, True, True)\n",
      "(5, 10, 'ic', 135, 1, 'veto', 100, 0, True, True, True)\n",
      "(5, 10, 'ic', 136, 1, 'veto', 100, 0, True, True, True)\n",
      "(5, 10, 'ic', 137, 1, 'veto', 100, 0, True, True, True)\n",
      "(5, 10, 'ic', 138, 1, 'veto', 100, 0, True, True, True)\n",
      "(5, 10, 'ic', 139, 1, 'veto', 100, 0, True, True, True)\n",
      "(5, 10, 'ic', 140, 1, 'veto', 100, 0, True, True, True)\n",
      "(5, 10, 'ic', 141, 1, 'veto', 100, 0, True, True, True)\n",
      "(5, 10, 'ic', 142, 1, 'veto', 100, 0, True, True, True)\n",
      "(5, 10, 'ic', 143, 1, 'veto', 100, 0, True, True, True)\n",
      "(5, 10, 'ic', 144, 1, 'veto', 100, 0, True, True, True)\n",
      "(5, 10, 'ic', 145, 1, 'veto', 100, 0, True, True, True)\n",
      "(5, 10, 'ic', 146, 1, 'veto', 100, 0, True, True, True)\n",
      "(5, 10, 'ic', 147, 1, 'veto', 100, 0, True, True, True)\n",
      "(5, 10, 'ic', 148, 1, 'veto', 100, 0, True, True, True)\n",
      "(5, 10, 'ic', 149, 1, 'veto', 100, 0, True, True, True)\n",
      "(5, 10, 'ic', 150, 1, 'veto', 100, 0, True, True, True)\n",
      "(5, 10, 'ic', 151, 1, 'veto', 100, 0, True, True, True)\n",
      "(5, 10, 'ic', 152, 1, 'veto', 100, 0, True, True, True)\n",
      "(5, 10, 'ic', 153, 1, 'veto', 100, 0, True, True, True)\n",
      "(5, 10, 'ic', 154, 1, 'veto', 100, 0, True, True, True)\n",
      "(5, 10, 'ic', 155, 1, 'veto', 100, 0, True, True, True)\n",
      "(5, 10, 'ic', 156, 1, 'veto', 100, 0, True, True, True)\n",
      "(5, 10, 'ic', 157, 1, 'veto', 100, 0, True, True, True)\n",
      "(5, 10, 'ic', 158, 1, 'veto', 100, 0, True, True, True)\n",
      "(5, 10, 'ic', 159, 1, 'veto', 100, 0, True, True, True)\n",
      "(5, 10, 'ic', 160, 1, 'veto', 100, 0, True, True, True)\n",
      "(5, 10, 'ic', 161, 1, 'veto', 100, 0, True, True, True)\n",
      "(5, 10, 'ic', 162, 1, 'veto', 100, 0, True, True, True)\n",
      "(5, 10, 'ic', 163, 1, 'veto', 100, 0, True, True, True)\n",
      "(5, 10, 'ic', 164, 1, 'veto', 100, 0, True, True, True)\n",
      "(5, 10, 'ic', 165, 1, 'veto', 100, 0, True, True, True)\n",
      "(5, 10, 'ic', 166, 1, 'veto', 100, 0, True, True, True)\n",
      "(5, 10, 'ic', 167, 1, 'veto', 100, 0, True, True, True)\n",
      "(5, 10, 'ic', 168, 1, 'veto', 100, 0, True, True, True)\n",
      "(5, 10, 'ic', 169, 1, 'veto', 100, 0, True, True, True)\n",
      "(5, 10, 'ic', 170, 1, 'veto', 100, 0, True, True, True)\n",
      "(5, 10, 'ic', 171, 1, 'veto', 100, 0, True, True, True)\n",
      "(5, 10, 'ic', 172, 1, 'veto', 100, 0, True, True, True)\n",
      "(5, 10, 'ic', 173, 1, 'veto', 100, 0, True, True, True)\n",
      "(5, 10, 'ic', 174, 1, 'veto', 100, 0, True, True, True)\n",
      "(5, 10, 'ic', 175, 1, 'veto', 100, 0, True, True, True)\n",
      "(5, 10, 'ic', 176, 1, 'veto', 100, 0, True, True, True)\n",
      "(5, 10, 'ic', 177, 1, 'veto', 100, 0, True, True, True)\n",
      "(5, 10, 'ic', 178, 1, 'veto', 100, 0, True, True, True)\n",
      "(5, 10, 'ic', 179, 1, 'veto', 100, 0, True, True, True)\n",
      "(5, 10, 'ic', 180, 1, 'veto', 100, 0, True, True, True)\n",
      "(5, 10, 'ic', 181, 1, 'veto', 100, 0, True, True, True)\n",
      "(5, 10, 'ic', 182, 1, 'veto', 100, 0, True, True, True)\n",
      "(5, 10, 'ic', 183, 1, 'veto', 100, 0, True, True, True)\n",
      "(5, 10, 'ic', 184, 1, 'veto', 100, 0, True, True, True)\n",
      "(5, 10, 'ic', 185, 1, 'veto', 100, 0, True, True, True)\n",
      "(5, 10, 'ic', 186, 1, 'veto', 100, 0, True, True, True)\n",
      "(5, 10, 'ic', 187, 1, 'veto', 100, 0, True, True, True)\n",
      "(5, 10, 'ic', 188, 1, 'veto', 100, 0, True, True, True)\n",
      "(5, 10, 'ic', 189, 1, 'veto', 100, 0, True, True, True)\n",
      "(5, 10, 'ic', 190, 1, 'veto', 100, 0, True, True, True)\n",
      "(5, 10, 'ic', 191, 1, 'veto', 100, 0, True, True, True)\n",
      "(5, 10, 'ic', 192, 1, 'veto', 100, 0, True, True, True)\n",
      "(5, 10, 'ic', 193, 1, 'veto', 100, 0, True, True, True)\n",
      "(5, 10, 'ic', 194, 1, 'veto', 100, 0, True, True, True)\n",
      "(5, 10, 'ic', 195, 1, 'veto', 100, 0, True, True, True)\n",
      "(5, 10, 'ic', 196, 1, 'veto', 100, 0, True, True, True)\n",
      "(5, 10, 'ic', 197, 1, 'veto', 100, 0, True, True, True)\n",
      "(5, 10, 'ic', 198, 1, 'veto', 100, 0, True, True, True)\n",
      "(5, 10, 'ic', 199, 1, 'veto', 100, 0, True, True, True)\n"
     ]
    },
    {
     "name": "stderr",
     "output_type": "stream",
     "text": [
      "\n"
     ]
    }
   ],
   "source": [
    "for k in tqdm(new_keys):\n",
    "    for i in range(200):\n",
    "        to_check = (k[0], k[1], k[2], i, k[3], k[4], k[5], k[6], k[7], k[8], k[9])\n",
    "        if to_check not in list(results.keys()):\n",
    "            print(to_check)\n",
    "            for j in range(i,200):\n",
    "                if (k[0], k[1], k[2], j, k[3], k[4], k[5], k[6], k[7], k[8], k[9]) in list(results.keys()):\n",
    "                    results[(k[0], k[1], k[2], i, k[3], k[4], k[5], k[6], k[7], k[8], k[9])]='hard_exit'\n",
    "                    print(f'adding {(k[0], k[1], k[2], i, k[3], k[4], k[5], k[6], k[7], k[8], k[9])}')\n",
    "                    break"
   ]
  },
  {
   "cell_type": "code",
   "execution_count": null,
   "metadata": {},
   "outputs": [],
   "source": []
  },
  {
   "cell_type": "code",
   "execution_count": 1,
   "metadata": {},
   "outputs": [],
   "source": [
    "from main.data_generation import profile_generation"
   ]
  },
  {
   "cell_type": "code",
   "execution_count": 2,
   "metadata": {},
   "outputs": [],
   "source": [
    "p = profile_generation(3, 10, 'ic', True)"
   ]
  },
  {
   "cell_type": "code",
   "execution_count": 5,
   "metadata": {},
   "outputs": [
    {
     "data": {
      "text/html": [
       "<div>\n",
       "<style scoped>\n",
       "    .dataframe tbody tr th:only-of-type {\n",
       "        vertical-align: middle;\n",
       "    }\n",
       "\n",
       "    .dataframe tbody tr th {\n",
       "        vertical-align: top;\n",
       "    }\n",
       "\n",
       "    .dataframe thead th {\n",
       "        text-align: right;\n",
       "    }\n",
       "</style>\n",
       "<table border=\"1\" class=\"dataframe\">\n",
       "  <thead>\n",
       "    <tr style=\"text-align: right;\">\n",
       "      <th></th>\n",
       "      <th>0</th>\n",
       "      <th>1</th>\n",
       "      <th>2</th>\n",
       "    </tr>\n",
       "  </thead>\n",
       "  <tbody>\n",
       "    <tr>\n",
       "      <th>0</th>\n",
       "      <td>0</td>\n",
       "      <td>1</td>\n",
       "      <td>-1</td>\n",
       "    </tr>\n",
       "    <tr>\n",
       "      <th>1</th>\n",
       "      <td>-1</td>\n",
       "      <td>0</td>\n",
       "      <td>-1</td>\n",
       "    </tr>\n",
       "    <tr>\n",
       "      <th>2</th>\n",
       "      <td>1</td>\n",
       "      <td>1</td>\n",
       "      <td>0</td>\n",
       "    </tr>\n",
       "  </tbody>\n",
       "</table>\n",
       "</div>"
      ],
      "text/plain": [
       "   0  1  2\n",
       "0  0  1 -1\n",
       "1 -1  0 -1\n",
       "2  1  1  0"
      ]
     },
     "execution_count": 5,
     "metadata": {},
     "output_type": "execute_result"
    }
   ],
   "source": [
    "p[3]"
   ]
  },
  {
   "cell_type": "code",
   "execution_count": 39,
   "metadata": {},
   "outputs": [],
   "source": [
    "order = list(range(alt_number))\n",
    "random.shuffle(order)"
   ]
  },
  {
   "cell_type": "code",
   "execution_count": 40,
   "metadata": {},
   "outputs": [
    {
     "data": {
      "text/plain": [
       "[3, 2, 0, 1, 4]"
      ]
     },
     "execution_count": 40,
     "metadata": {},
     "output_type": "execute_result"
    }
   ],
   "source": [
    "order"
   ]
  },
  {
   "cell_type": "code",
   "execution_count": 41,
   "metadata": {},
   "outputs": [],
   "source": [
    "    new_mat = np.ones((alt_number, alt_number))\n",
    "\n",
    "    for counter, alt in enumerate(order):\n",
    "        for i in range(0, counter):\n",
    "            new_mat[alt, order[i]] = -1\n",
    "    np.fill_diagonal(new_mat, 0)"
   ]
  },
  {
   "cell_type": "code",
   "execution_count": 42,
   "metadata": {},
   "outputs": [
    {
     "data": {
      "text/plain": [
       "array([[ 0.,  1., -1., -1.,  1.],\n",
       "       [-1.,  0., -1., -1.,  1.],\n",
       "       [ 1.,  1.,  0., -1.,  1.],\n",
       "       [ 1.,  1.,  1.,  0.,  1.],\n",
       "       [-1., -1., -1., -1.,  0.]])"
      ]
     },
     "execution_count": 42,
     "metadata": {},
     "output_type": "execute_result"
    }
   ],
   "source": [
    "new_mat"
   ]
  },
  {
   "cell_type": "code",
   "execution_count": 5,
   "metadata": {},
   "outputs": [],
   "source": [
    "random_order = np.random.randint(0, alt_number, (alt_number,))\n",
    "order = {i: random_order[i] for i in range(alt_number)}"
   ]
  },
  {
   "cell_type": "code",
   "execution_count": 6,
   "metadata": {},
   "outputs": [
    {
     "data": {
      "text/plain": [
       "{0: 0, 1: 0, 2: 2}"
      ]
     },
     "execution_count": 6,
     "metadata": {},
     "output_type": "execute_result"
    }
   ],
   "source": [
    "order"
   ]
  },
  {
   "cell_type": "code",
   "execution_count": null,
   "metadata": {},
   "outputs": [],
   "source": []
  }
 ],
 "metadata": {
  "kernelspec": {
   "display_name": "Python 3",
   "language": "python",
   "name": "python3"
  },
  "language_info": {
   "codemirror_mode": {
    "name": "ipython",
    "version": 3
   },
   "file_extension": ".py",
   "mimetype": "text/x-python",
   "name": "python",
   "nbconvert_exporter": "python",
   "pygments_lexer": "ipython3",
   "version": "3.8.5"
  }
 },
 "nbformat": 4,
 "nbformat_minor": 4
}
