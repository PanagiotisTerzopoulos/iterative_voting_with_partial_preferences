{
 "cells": [
  {
   "cell_type": "code",
   "execution_count": 1,
   "metadata": {},
   "outputs": [],
   "source": [
    "import dill\n",
    "from main.manipulation import Manipulation\n",
    "from main.data_processing import evaluate_profile\n",
    "import pandas as pd\n",
    "from main.manipulation_utils import get_children_generation_options, check_transitivity, one_cost_children_generation, useful_change\n",
    "from IPython.display import display"
   ]
  },
  {
   "cell_type": "code",
   "execution_count": 2,
   "metadata": {},
   "outputs": [],
   "source": [
    "# with open('data/one_piece_of_data_4_10.pkl', 'rb') as f:\n",
    "#     file = dill.load(f)\n",
    "\n",
    "# all_preferences = [pd.DataFrame(x) for x in file]\n",
    "# alphabetical_order = {}\n",
    "# for i in all_preferences[0].index:\n",
    "#     alphabetical_order[i] = i\n",
    "\n",
    "# voter_num = 1\n",
    "# cost_of_voter_pref = 0\n",
    "# k=1\n",
    "# method='approval'\n",
    "\n",
    "# winner, possible_winners, scores_of_alternatives = evaluate_profile(graphs=all_preferences, k=k, method=method, alphabetical_order=alphabetical_order)\n",
    "\n",
    "# man = Manipulation(\n",
    "#     all_preferences=all_preferences,\n",
    "#     preference_idx=voter_num,\n",
    "#     absolute_cost_of_preference=cost_of_voter_pref,\n",
    "#     winner=winner,\n",
    "#     possible_winners=possible_winners,\n",
    "#     scores_of_alternatives=scores_of_alternatives,\n",
    "#     alphabetical_order_of_alternatives=alphabetical_order,\n",
    "#     method=method,\n",
    "#     k=k\n",
    "# )\n",
    "\n",
    "# new_prof, winner = man.manipulation_move()"
   ]
  },
  {
   "cell_type": "markdown",
   "metadata": {},
   "source": [
    "All examples have two voters. I write the preferences column-by-column.\n",
    "------------\n",
    "\n",
    "## ex. 1\n",
    "\n",
    "Manipulating voter: voter_1\n",
    "\n",
    "Rule: Veto, k=1\n",
    "\n",
    "Order of alternatives: 0: a_0, 1:a_1, 2: a_2\n",
    "\n",
    "- Omission_allowed: yes, Addition_allowed: yes, Flips_allowed: yes . Result:\n",
    "\n",
    "Alternative 1 is preferred. Manipulation happened.\n",
    "New preference of voter_1:  [[0,0,0],[0,0,0],[0,0,0]]\n",
    "\n",
    "- Omission_allowed: no, Addition_allowed: yes, Flips_allowed: yes . Result:\n",
    "\n",
    "Alternative 1 is preferred. Manipulation happened.\n",
    "New preference of voter_1:  [[0,1,1],[-1,0,1],[-1,-1,0]] or  [[0,-1,-1],[1,0,-1],[1,1,0]]\n",
    "\n",
    "- Omission_allowed: no, Addition_allowed: no, Flips_allowed: yes . Result:\n",
    "\n",
    "No manipulation possible\n",
    "\n",
    "-------------\n",
    "## ex. 2\n",
    "\n",
    "Manipulating voter: voter_1\n",
    "\n",
    "Rule: Veto, k=1\n",
    "\n",
    "Order of alternatives: 0: a_0, 1:a_1, 2: a_2\n",
    "\n",
    "- Omission_allowed: yes, Addition_allowed: no, Flips_allowed: yes . Result:\n",
    "\n",
    "Alternative 1 is preferred. Manipulation happened.\n",
    "New preference of voter_1: [[0,0,0],[0,0,-1],[0,1,0]]\n",
    "\n",
    "\n",
    "- Omission_allowed: yes, Addition_allowed: yes, Flips_allowed: no. Result:\n",
    "\n",
    "Alternative 1 is preferred. Manipulation happened.\n",
    "New preference of voter_1: [[0,1,1],[-1,0,1],[-1,-1,0]]\n",
    "\n",
    "- Omission_allowed: yes, Addition_allowed: yes, Flips_allowed: yes. Result:\n",
    "\n",
    "Alternative 1 is preferred. Manipulation happened.\n",
    "New preference of voter_1: [[0,1,1],[-1,0,1],[-1,-1,0]] or [[0,0,0],[0,0,-1],[0,1,0]]\n",
    "\n",
    "- Omission_allowed: yes, Addition_allowed: no, Flips_allowed: no. Result:\n",
    "No manipulation possible\n",
    "-------------\n",
    "## ex. 3\n",
    "approval\n",
    "k=1\n",
    "voter=0\n",
    "- All allowed: Manipulation happened.  alternative 3 is preferred. \n",
    "\n",
    "- No addition allowed: No manipulation possible.\n",
    "-------------\n",
    "## ex. 4\n",
    "approval\n",
    "k=2\n",
    "voter=0\n",
    "- All allowed: Manipulation happened.  New preference of voter_0: [[0,-1,-1],[1,0,-1],[1,1,0]]\n",
    "- No addition allowed: No manipulation possible."
   ]
  },
  {
   "cell_type": "markdown",
   "metadata": {},
   "source": [
    "# Tests"
   ]
  },
  {
   "cell_type": "code",
   "execution_count": 3,
   "metadata": {},
   "outputs": [],
   "source": [
    "# # examples.values[0]: (current_prefs[voters[preference]], true_prefs[voters[preference]])\n",
    "# examples = {\n",
    "#     1: (\n",
    "#         (pd.DataFrame({0: [0,1,1], 1: [-1,0,1], 2:[-1,-1,0]}), pd.DataFrame({0: [0,-1,0], 1: [1,0,1], 2:[0,-1,0]})),\n",
    "#         (pd.DataFrame({0: [0,1,1], 1: [-1,0,1], 2:[-1,-1,0]}), pd.DataFrame({0: [0,0,0], 1: [0,0,-1], 2:[0,1,0]}))\n",
    "#     ),\n",
    "#     2: (\n",
    "#         (pd.DataFrame({0: [0,0,0], 1: [0,0,0], 2:[0,0,0]}), pd.DataFrame({0: [0,0,0], 1: [0,0,1], 2:[0,-1,0]})),\n",
    "#         (pd.DataFrame({0: [0,0,0], 1: [0,0,0], 2:[0,0,0]}),pd.DataFrame({0: [0,0,0], 1: [0,0,-1], 2:[0,1,0]}))\n",
    "#     ),\n",
    "#     3: (\n",
    "#         (pd.DataFrame({0: [0,0,0,0], 1: [0,0,0,-1], 2:[0,0,0,-1], 3: [0,1,1,0]}), pd.DataFrame({0: [0,0,0,0], 1: [0,0,0,0], 2:[0,0,0,0], 3: [0,0,0,0]})),\n",
    "#         (pd.DataFrame({0: [0,1,1,1], 1: [-1,0,1,1], 2:[-1,-1,0,1], 3: [-1,-1,-1,0]}), pd.DataFrame({0: [0,0,0,0], 1: [0,0,0,0], 2:[0,0,0,0], 3: [0,0,0,0]}))\n",
    "#     ),\n",
    "#     4: (\n",
    "#         (pd.DataFrame({0: [0,-1,-1], 1: [1,0,0], 2:[1,0,0]}), pd.DataFrame({0: [0,-1,1], 1: [1,0,1], 2:[-1,-1,0]}), pd.DataFrame({0: [0,1,1], 1: [-1,0,1], 2:[-1,-1,0]})),\n",
    "#         (pd.DataFrame({0: [0,-1,-1], 1: [1,0,0], 2:[1,0,0]}), pd.DataFrame({0: [0,-1,1], 1: [1,0,1], 2:[-1,-1,0]}), pd.DataFrame({0: [0,1,1], 1: [-1,0,1], 2:[-1,-1,0]}))\n",
    "#     )\n",
    "# }\n"
   ]
  },
  {
   "cell_type": "code",
   "execution_count": 4,
   "metadata": {},
   "outputs": [],
   "source": [
    "with open('data/profile_manual_example_1.pkl', 'rb') as f:\n",
    "    truth_prefs = dill.load(f)\n",
    "prefs = truth_prefs\n",
    "\n",
    "alph_order = {}\n",
    "for i in prefs[0].index:\n",
    "    alph_order[i] = i\n",
    "\n",
    "manipulation_voter=0\n",
    "k=1\n",
    "rule='approval'"
   ]
  },
  {
   "cell_type": "code",
   "execution_count": 5,
   "metadata": {},
   "outputs": [],
   "source": [
    "# example_num=3\n",
    "# prefs = examples[example_num][0]\n",
    "# truth_prefs = examples[example_num][1]\n",
    "\n",
    "# rule='approval'\n",
    "# k=1\n",
    "\n",
    "# alph_order = {0: 0, 1: 1, 2: 2, 3: 3}\n",
    "# assert len(alph_order)==len(prefs[0])\n",
    "# manipulation_voter=0"
   ]
  },
  {
   "cell_type": "code",
   "execution_count": 6,
   "metadata": {},
   "outputs": [],
   "source": [
    "# for i, (p, t) in enumerate(zip(prefs, truth_prefs)):\n",
    "#     print(f'pref {i} current')\n",
    "#     display(p)\n",
    "#     print(f'pref {i} true')\n",
    "#     display(t)"
   ]
  },
  {
   "cell_type": "code",
   "execution_count": 7,
   "metadata": {},
   "outputs": [],
   "source": [
    "winner, possible_winners, scores_of_alternatives = evaluate_profile(graphs=prefs, k=k, method=rule, alphabetical_order=alph_order)"
   ]
  },
  {
   "cell_type": "code",
   "execution_count": 8,
   "metadata": {},
   "outputs": [
    {
     "name": "stdout",
     "output_type": "stream",
     "text": [
      "0\n",
      "[1, 2]\n",
      "{'0': 1, '1': 1, '2': 1}\n"
     ]
    }
   ],
   "source": [
    "print(winner)\n",
    "print(possible_winners)\n",
    "print(scores_of_alternatives)"
   ]
  },
  {
   "cell_type": "code",
   "execution_count": 9,
   "metadata": {},
   "outputs": [],
   "source": [
    "man = Manipulation(\n",
    "    all_preferences=prefs,\n",
    "    preference_idx=manipulation_voter,\n",
    "    absolute_cost_of_preference=0,\n",
    "    winner=winner,\n",
    "    truthful_profile=truth_prefs,\n",
    "    possible_winners=possible_winners,\n",
    "    scores_of_alternatives=scores_of_alternatives,\n",
    "    alphabetical_order_of_alternatives=alph_order,\n",
    "    method=rule,\n",
    "    k=k,\n",
    "    do_additions=True,\n",
    "    do_omissions=False,\n",
    "    do_flips=True\n",
    ")"
   ]
  },
  {
   "cell_type": "code",
   "execution_count": 10,
   "metadata": {},
   "outputs": [
    {
     "name": "stdout",
     "output_type": "stream",
     "text": [
      "Automatic pdb calling has been turned ON\n"
     ]
    }
   ],
   "source": [
    "%pdb"
   ]
  },
  {
   "cell_type": "code",
   "execution_count": 11,
   "metadata": {},
   "outputs": [
    {
     "name": "stdout",
     "output_type": "stream",
     "text": [
      "p_score == 0 and winner_score == 0\n",
      "Alternative 2 is preferred. Investigating possible manipulation.\n",
      "new prefs: []\n",
      "in check_if_manipulation_happened\n",
      "in tree_generation_level_1_onwards\n",
      "in examine_matrices_cost_2\n",
      "matrices_to_examine_cost_2 [(0, [],    0  1  2\n",
      "0  0 -1 -1\n",
      "1  1  0  1\n",
      "2  1 -1  0)]\n",
      "all generated matrices so far 1\n",
      "new prefs: [(1, [2],    0  1  2\n",
      "0  0 -1 -1\n",
      "1  1  0 -1\n",
      "2  1  1  0)]\n",
      "in check_if_manipulation_happened\n",
      "Manipulation happened!\n",
      "took total time 0.9967520236968994\n"
     ]
    }
   ],
   "source": [
    "result = man.manipulation_move()\n",
    "if result is not None:\n",
    "    new_prof, winner = result\n",
    "else:\n",
    "    new_prof = None\n",
    "    winner = None"
   ]
  },
  {
   "cell_type": "code",
   "execution_count": 14,
   "metadata": {},
   "outputs": [
    {
     "ename": "TypeError",
     "evalue": "'NoneType' object is not iterable",
     "output_type": "error",
     "traceback": [
      "\u001b[0;31m---------------------------------------------------------------------------\u001b[0m",
      "\u001b[0;31mTypeError\u001b[0m                                 Traceback (most recent call last)",
      "\u001b[0;32m<ipython-input-14-d166703a7403>\u001b[0m in \u001b[0;36m<module>\u001b[0;34m\u001b[0m\n\u001b[0;32m----> 1\u001b[0;31m \u001b[0;32mfor\u001b[0m \u001b[0mp\u001b[0m \u001b[0;32min\u001b[0m \u001b[0mnew_prof\u001b[0m\u001b[0;34m:\u001b[0m\u001b[0;34m\u001b[0m\u001b[0;34m\u001b[0m\u001b[0m\n\u001b[0m\u001b[1;32m      2\u001b[0m     \u001b[0mdisplay\u001b[0m\u001b[0;34m(\u001b[0m\u001b[0mp\u001b[0m\u001b[0;34m)\u001b[0m\u001b[0;34m\u001b[0m\u001b[0;34m\u001b[0m\u001b[0m\n",
      "\u001b[0;31mTypeError\u001b[0m: 'NoneType' object is not iterable"
     ]
    },
    {
     "name": "stdout",
     "output_type": "stream",
     "text": [
      "> \u001b[0;32m<ipython-input-14-d166703a7403>\u001b[0m(1)\u001b[0;36m<module>\u001b[0;34m()\u001b[0m\n",
      "\u001b[0;32m----> 1 \u001b[0;31m\u001b[0;32mfor\u001b[0m \u001b[0mp\u001b[0m \u001b[0;32min\u001b[0m \u001b[0mnew_prof\u001b[0m\u001b[0;34m:\u001b[0m\u001b[0;34m\u001b[0m\u001b[0;34m\u001b[0m\u001b[0m\n",
      "\u001b[0m\u001b[0;32m      2 \u001b[0;31m    \u001b[0mdisplay\u001b[0m\u001b[0;34m(\u001b[0m\u001b[0mp\u001b[0m\u001b[0;34m)\u001b[0m\u001b[0;34m\u001b[0m\u001b[0;34m\u001b[0m\u001b[0m\n",
      "\u001b[0m\n",
      "ipdb> q\n"
     ]
    }
   ],
   "source": [
    "for p in new_prof:\n",
    "    display(p)"
   ]
  },
  {
   "cell_type": "code",
   "execution_count": null,
   "metadata": {},
   "outputs": [],
   "source": []
  },
  {
   "cell_type": "code",
   "execution_count": null,
   "metadata": {},
   "outputs": [],
   "source": []
  },
  {
   "cell_type": "code",
   "execution_count": null,
   "metadata": {},
   "outputs": [],
   "source": []
  },
  {
   "cell_type": "code",
   "execution_count": null,
   "metadata": {},
   "outputs": [],
   "source": []
  }
 ],
 "metadata": {
  "kernelspec": {
   "display_name": "Python 3",
   "language": "python",
   "name": "python3"
  },
  "language_info": {
   "codemirror_mode": {
    "name": "ipython",
    "version": 3
   },
   "file_extension": ".py",
   "mimetype": "text/x-python",
   "name": "python",
   "nbconvert_exporter": "python",
   "pygments_lexer": "ipython3",
   "version": "3.8.5"
  }
 },
 "nbformat": 4,
 "nbformat_minor": 4
}
