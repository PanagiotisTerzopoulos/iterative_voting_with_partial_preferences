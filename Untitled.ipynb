{
 "cells": [
  {
   "cell_type": "code",
   "execution_count": 79,
   "metadata": {},
   "outputs": [],
   "source": [
    "import dill\n",
    "from main.manipulation import Manipulation\n",
    "from main.data_processing import evaluate_profile, create_graph_from_matrix\n",
    "import pandas as pd\n",
    "from main.manipulation_utils import get_children_generation_options, check_transitivity, one_cost_children_generation, useful_change\n",
    "from IPython.display import display\n",
    "import matplotlib.pyplot as plt\n",
    "from tqdm import tqdm"
   ]
  },
  {
   "cell_type": "code",
   "execution_count": 91,
   "metadata": {},
   "outputs": [],
   "source": [
    "with open('data/results/total_result.pkl', 'rb') as f:\n",
    "    results = dill.load(f)"
   ]
  },
  {
   "cell_type": "code",
   "execution_count": 100,
   "metadata": {},
   "outputs": [
    {
     "data": {
      "text/plain": [
       "13"
      ]
     },
     "execution_count": 100,
     "metadata": {},
     "output_type": "execute_result"
    }
   ],
   "source": [
    "len([k for k, v in results.items() if v=='hard_exit' and k[1]==20])"
   ]
  },
  {
   "cell_type": "code",
   "execution_count": null,
   "metadata": {},
   "outputs": [],
   "source": []
  },
  {
   "cell_type": "code",
   "execution_count": 82,
   "metadata": {},
   "outputs": [],
   "source": [
    "new_keys = []\n",
    "for k in results.keys():\n",
    "    new_keys.append([k[i] for i in range(len(k)) if i!=3])    "
   ]
  },
  {
   "cell_type": "code",
   "execution_count": 83,
   "metadata": {},
   "outputs": [],
   "source": [
    "import itertools\n",
    "new_keys.sort()\n",
    "new_keys = list(new_keys for new_keys,_ in itertools.groupby(new_keys))"
   ]
  },
  {
   "cell_type": "code",
   "execution_count": 84,
   "metadata": {},
   "outputs": [
    {
     "data": {
      "text/plain": [
       "[[3, 10, '2urn', 1, 'approval', 100, 0, True, True, True],\n",
       " [3, 10, '2urn', 1, 'veto', 100, 0, True, True, True],\n",
       " [3, 10, 'ic', 1, 'approval', 100, 0, True, True, True],\n",
       " [3, 10, 'ic', 1, 'veto', 100, 0, True, True, True],\n",
       " [3, 20, '2urn', 1, 'approval', 100, 0, True, True, True],\n",
       " [3, 20, '2urn', 1, 'veto', 100, 0, True, True, True],\n",
       " [3, 20, 'ic', 1, 'approval', 100, 0, True, True, True],\n",
       " [3, 20, 'ic', 1, 'veto', 100, 0, True, True, True],\n",
       " [3, 50, '2urn', 1, 'approval', 100, 0, True, True, True],\n",
       " [3, 50, '2urn', 1, 'veto', 100, 0, True, True, True],\n",
       " [3, 50, 'ic', 1, 'approval', 100, 0, True, True, True],\n",
       " [3, 50, 'ic', 1, 'veto', 100, 0, True, True, True],\n",
       " [5, 10, '2urn', 1, 'approval', 100, 0, True, True, True],\n",
       " [5, 10, 'ic', 1, 'approval', 100, 0, True, True, True],\n",
       " [5, 10, 'ic', 1, 'veto', 100, 0, True, True, True]]"
      ]
     },
     "execution_count": 84,
     "metadata": {},
     "output_type": "execute_result"
    }
   ],
   "source": [
    "new_keys"
   ]
  },
  {
   "cell_type": "code",
   "execution_count": 86,
   "metadata": {},
   "outputs": [
    {
     "name": "stderr",
     "output_type": "stream",
     "text": [
      " 60%|██████    | 9/15 [00:00<00:00, 86.77it/s]"
     ]
    },
    {
     "name": "stdout",
     "output_type": "stream",
     "text": [
      "(5, 10, 'ic', 101, 1, 'veto', 100, 0, True, True, True)\n",
      "(5, 10, 'ic', 102, 1, 'veto', 100, 0, True, True, True)\n",
      "(5, 10, 'ic', 103, 1, 'veto', 100, 0, True, True, True)\n",
      "(5, 10, 'ic', 104, 1, 'veto', 100, 0, True, True, True)\n",
      "(5, 10, 'ic', 105, 1, 'veto', 100, 0, True, True, True)\n",
      "(5, 10, 'ic', 106, 1, 'veto', 100, 0, True, True, True)\n",
      "(5, 10, 'ic', 107, 1, 'veto', 100, 0, True, True, True)\n",
      "(5, 10, 'ic', 108, 1, 'veto', 100, 0, True, True, True)\n",
      "(5, 10, 'ic', 109, 1, 'veto', 100, 0, True, True, True)\n",
      "(5, 10, 'ic', 110, 1, 'veto', 100, 0, True, True, True)\n",
      "(5, 10, 'ic', 111, 1, 'veto', 100, 0, True, True, True)\n",
      "(5, 10, 'ic', 112, 1, 'veto', 100, 0, True, True, True)\n",
      "(5, 10, 'ic', 113, 1, 'veto', 100, 0, True, True, True)\n",
      "(5, 10, 'ic', 114, 1, 'veto', 100, 0, True, True, True)\n",
      "(5, 10, 'ic', 115, 1, 'veto', 100, 0, True, True, True)\n",
      "(5, 10, 'ic', 116, 1, 'veto', 100, 0, True, True, True)\n",
      "(5, 10, 'ic', 117, 1, 'veto', 100, 0, True, True, True)\n",
      "(5, 10, 'ic', 118, 1, 'veto', 100, 0, True, True, True)\n",
      "(5, 10, 'ic', 119, 1, 'veto', 100, 0, True, True, True)\n",
      "(5, 10, 'ic', 120, 1, 'veto', 100, 0, True, True, True)\n",
      "(5, 10, 'ic', 121, 1, 'veto', 100, 0, True, True, True)\n",
      "(5, 10, 'ic', 122, 1, 'veto', 100, 0, True, True, True)\n",
      "(5, 10, 'ic', 123, 1, 'veto', 100, 0, True, True, True)\n",
      "(5, 10, 'ic', 124, 1, 'veto', 100, 0, True, True, True)\n",
      "(5, 10, 'ic', 125, 1, 'veto', 100, 0, True, True, True)\n",
      "(5, 10, 'ic', 126, 1, 'veto', 100, 0, True, True, True)\n",
      "(5, 10, 'ic', 127, 1, 'veto', 100, 0, True, True, True)\n",
      "(5, 10, 'ic', 128, 1, 'veto', 100, 0, True, True, True)\n",
      "(5, 10, 'ic', 129, 1, 'veto', 100, 0, True, True, True)\n",
      "(5, 10, 'ic', 130, 1, 'veto', 100, 0, True, True, True)\n",
      "(5, 10, 'ic', 131, 1, 'veto', 100, 0, True, True, True)\n",
      "(5, 10, 'ic', 132, 1, 'veto', 100, 0, True, True, True)"
     ]
    },
    {
     "name": "stderr",
     "output_type": "stream",
     "text": [
      "100%|██████████| 15/15 [00:00<00:00, 25.17it/s]"
     ]
    },
    {
     "name": "stdout",
     "output_type": "stream",
     "text": [
      "\n",
      "(5, 10, 'ic', 133, 1, 'veto', 100, 0, True, True, True)\n",
      "(5, 10, 'ic', 134, 1, 'veto', 100, 0, True, True, True)\n",
      "(5, 10, 'ic', 135, 1, 'veto', 100, 0, True, True, True)\n",
      "(5, 10, 'ic', 136, 1, 'veto', 100, 0, True, True, True)\n",
      "(5, 10, 'ic', 137, 1, 'veto', 100, 0, True, True, True)\n",
      "(5, 10, 'ic', 138, 1, 'veto', 100, 0, True, True, True)\n",
      "(5, 10, 'ic', 139, 1, 'veto', 100, 0, True, True, True)\n",
      "(5, 10, 'ic', 140, 1, 'veto', 100, 0, True, True, True)\n",
      "(5, 10, 'ic', 141, 1, 'veto', 100, 0, True, True, True)\n",
      "(5, 10, 'ic', 142, 1, 'veto', 100, 0, True, True, True)\n",
      "(5, 10, 'ic', 143, 1, 'veto', 100, 0, True, True, True)\n",
      "(5, 10, 'ic', 144, 1, 'veto', 100, 0, True, True, True)\n",
      "(5, 10, 'ic', 145, 1, 'veto', 100, 0, True, True, True)\n",
      "(5, 10, 'ic', 146, 1, 'veto', 100, 0, True, True, True)\n",
      "(5, 10, 'ic', 147, 1, 'veto', 100, 0, True, True, True)\n",
      "(5, 10, 'ic', 148, 1, 'veto', 100, 0, True, True, True)\n",
      "(5, 10, 'ic', 149, 1, 'veto', 100, 0, True, True, True)\n",
      "(5, 10, 'ic', 150, 1, 'veto', 100, 0, True, True, True)\n",
      "(5, 10, 'ic', 151, 1, 'veto', 100, 0, True, True, True)\n",
      "(5, 10, 'ic', 152, 1, 'veto', 100, 0, True, True, True)\n",
      "(5, 10, 'ic', 153, 1, 'veto', 100, 0, True, True, True)\n",
      "(5, 10, 'ic', 154, 1, 'veto', 100, 0, True, True, True)\n",
      "(5, 10, 'ic', 155, 1, 'veto', 100, 0, True, True, True)\n",
      "(5, 10, 'ic', 156, 1, 'veto', 100, 0, True, True, True)\n",
      "(5, 10, 'ic', 157, 1, 'veto', 100, 0, True, True, True)\n",
      "(5, 10, 'ic', 158, 1, 'veto', 100, 0, True, True, True)\n",
      "(5, 10, 'ic', 159, 1, 'veto', 100, 0, True, True, True)\n",
      "(5, 10, 'ic', 160, 1, 'veto', 100, 0, True, True, True)\n",
      "(5, 10, 'ic', 161, 1, 'veto', 100, 0, True, True, True)\n",
      "(5, 10, 'ic', 162, 1, 'veto', 100, 0, True, True, True)\n",
      "(5, 10, 'ic', 163, 1, 'veto', 100, 0, True, True, True)\n",
      "(5, 10, 'ic', 164, 1, 'veto', 100, 0, True, True, True)\n",
      "(5, 10, 'ic', 165, 1, 'veto', 100, 0, True, True, True)\n",
      "(5, 10, 'ic', 166, 1, 'veto', 100, 0, True, True, True)\n",
      "(5, 10, 'ic', 167, 1, 'veto', 100, 0, True, True, True)\n",
      "(5, 10, 'ic', 168, 1, 'veto', 100, 0, True, True, True)\n",
      "(5, 10, 'ic', 169, 1, 'veto', 100, 0, True, True, True)\n",
      "(5, 10, 'ic', 170, 1, 'veto', 100, 0, True, True, True)\n",
      "(5, 10, 'ic', 171, 1, 'veto', 100, 0, True, True, True)\n",
      "(5, 10, 'ic', 172, 1, 'veto', 100, 0, True, True, True)\n",
      "(5, 10, 'ic', 173, 1, 'veto', 100, 0, True, True, True)\n",
      "(5, 10, 'ic', 174, 1, 'veto', 100, 0, True, True, True)\n",
      "(5, 10, 'ic', 175, 1, 'veto', 100, 0, True, True, True)\n",
      "(5, 10, 'ic', 176, 1, 'veto', 100, 0, True, True, True)\n",
      "(5, 10, 'ic', 177, 1, 'veto', 100, 0, True, True, True)\n",
      "(5, 10, 'ic', 178, 1, 'veto', 100, 0, True, True, True)\n",
      "(5, 10, 'ic', 179, 1, 'veto', 100, 0, True, True, True)\n",
      "(5, 10, 'ic', 180, 1, 'veto', 100, 0, True, True, True)\n",
      "(5, 10, 'ic', 181, 1, 'veto', 100, 0, True, True, True)\n",
      "(5, 10, 'ic', 182, 1, 'veto', 100, 0, True, True, True)\n",
      "(5, 10, 'ic', 183, 1, 'veto', 100, 0, True, True, True)\n",
      "(5, 10, 'ic', 184, 1, 'veto', 100, 0, True, True, True)\n",
      "(5, 10, 'ic', 185, 1, 'veto', 100, 0, True, True, True)\n",
      "(5, 10, 'ic', 186, 1, 'veto', 100, 0, True, True, True)\n",
      "(5, 10, 'ic', 187, 1, 'veto', 100, 0, True, True, True)\n",
      "(5, 10, 'ic', 188, 1, 'veto', 100, 0, True, True, True)\n",
      "(5, 10, 'ic', 189, 1, 'veto', 100, 0, True, True, True)\n",
      "(5, 10, 'ic', 190, 1, 'veto', 100, 0, True, True, True)\n",
      "(5, 10, 'ic', 191, 1, 'veto', 100, 0, True, True, True)\n",
      "(5, 10, 'ic', 192, 1, 'veto', 100, 0, True, True, True)\n",
      "(5, 10, 'ic', 193, 1, 'veto', 100, 0, True, True, True)\n",
      "(5, 10, 'ic', 194, 1, 'veto', 100, 0, True, True, True)\n",
      "(5, 10, 'ic', 195, 1, 'veto', 100, 0, True, True, True)\n",
      "(5, 10, 'ic', 196, 1, 'veto', 100, 0, True, True, True)\n",
      "(5, 10, 'ic', 197, 1, 'veto', 100, 0, True, True, True)\n",
      "(5, 10, 'ic', 198, 1, 'veto', 100, 0, True, True, True)\n",
      "(5, 10, 'ic', 199, 1, 'veto', 100, 0, True, True, True)\n"
     ]
    },
    {
     "name": "stderr",
     "output_type": "stream",
     "text": [
      "\n"
     ]
    }
   ],
   "source": [
    "for k in tqdm(new_keys):\n",
    "    for i in range(200):\n",
    "        to_check = (k[0], k[1], k[2], i, k[3], k[4], k[5], k[6], k[7], k[8], k[9])\n",
    "        if to_check not in list(results.keys()):\n",
    "            print(to_check)\n",
    "            for j in range(i,200):\n",
    "                if (k[0], k[1], k[2], j, k[3], k[4], k[5], k[6], k[7], k[8], k[9]) in list(results.keys()):\n",
    "                    results[(k[0], k[1], k[2], i, k[3], k[4], k[5], k[6], k[7], k[8], k[9])]='hard_exit'\n",
    "                    print(f'adding {(k[0], k[1], k[2], i, k[3], k[4], k[5], k[6], k[7], k[8], k[9])}')\n",
    "                    break"
   ]
  },
  {
   "cell_type": "code",
   "execution_count": null,
   "metadata": {},
   "outputs": [],
   "source": []
  },
  {
   "cell_type": "code",
   "execution_count": 75,
   "metadata": {},
   "outputs": [],
   "source": [
    "    with open('data/results/total_result.pkl', 'wb') as f:\n",
    "        dill.dump(results, f)"
   ]
  },
  {
   "cell_type": "code",
   "execution_count": 2,
   "metadata": {},
   "outputs": [],
   "source": [
    "# with open('data/one_piece_of_data_4_10.pkl', 'rb') as f:\n",
    "#     file = dill.load(f)\n",
    "\n",
    "# all_preferences = [pd.DataFrame(x) for x in file]\n",
    "# alphabetical_order = {}\n",
    "# for i in all_preferences[0].index:\n",
    "#     alphabetical_order[i] = i\n",
    "\n",
    "# voter_num = 1\n",
    "# cost_of_voter_pref = 0\n",
    "# k=1\n",
    "# method='approval'\n",
    "\n",
    "# winner, possible_winners, scores_of_alternatives = evaluate_profile(graphs=all_preferences, k=k, method=method, alphabetical_order=alphabetical_order)\n",
    "\n",
    "# man = Manipulation(\n",
    "#     all_preferences=all_preferences,\n",
    "#     preference_idx=voter_num,\n",
    "#     absolute_cost_of_preference=cost_of_voter_pref,\n",
    "#     winner=winner,\n",
    "#     possible_winners=possible_winners,\n",
    "#     scores_of_alternatives=scores_of_alternatives,\n",
    "#     alphabetical_order_of_alternatives=alphabetical_order,\n",
    "#     method=method,\n",
    "#     k=k\n",
    "# )\n",
    "\n",
    "# new_prof, winner = man.manipulation_move()"
   ]
  },
  {
   "cell_type": "markdown",
   "metadata": {},
   "source": [
    "All examples have two voters. I write the preferences column-by-column.\n",
    "------------\n",
    "\n",
    "## ex. 1\n",
    "\n",
    "Manipulating voter: voter_1\n",
    "\n",
    "Rule: Veto, k=1\n",
    "\n",
    "Order of alternatives: 0: a_0, 1:a_1, 2: a_2\n",
    "\n",
    "- Omission_allowed: yes, Addition_allowed: yes, Flips_allowed: yes . Result:\n",
    "\n",
    "Alternative 1 is preferred. Manipulation happened.\n",
    "New preference of voter_1:  [[0,0,0],[0,0,0],[0,0,0]]\n",
    "\n",
    "- Omission_allowed: no, Addition_allowed: yes, Flips_allowed: yes . Result:\n",
    "\n",
    "Alternative 1 is preferred. Manipulation happened.\n",
    "New preference of voter_1:  [[0,1,1],[-1,0,1],[-1,-1,0]] or  [[0,-1,-1],[1,0,-1],[1,1,0]]\n",
    "\n",
    "- Omission_allowed: no, Addition_allowed: no, Flips_allowed: yes . Result:\n",
    "\n",
    "No manipulation possible\n",
    "\n",
    "-------------\n",
    "## ex. 2\n",
    "\n",
    "Manipulating voter: voter_1\n",
    "\n",
    "Rule: Veto, k=1\n",
    "\n",
    "Order of alternatives: 0: a_0, 1:a_1, 2: a_2\n",
    "\n",
    "- Omission_allowed: yes, Addition_allowed: no, Flips_allowed: yes . Result:\n",
    "\n",
    "Alternative 1 is preferred. Manipulation happened.\n",
    "New preference of voter_1: [[0,0,0],[0,0,-1],[0,1,0]]\n",
    "\n",
    "\n",
    "- Omission_allowed: yes, Addition_allowed: yes, Flips_allowed: no. Result:\n",
    "\n",
    "Alternative 1 is preferred. Manipulation happened.\n",
    "New preference of voter_1: [[0,1,1],[-1,0,1],[-1,-1,0]]\n",
    "\n",
    "- Omission_allowed: yes, Addition_allowed: yes, Flips_allowed: yes. Result:\n",
    "\n",
    "Alternative 1 is preferred. Manipulation happened.\n",
    "New preference of voter_1: [[0,1,1],[-1,0,1],[-1,-1,0]] or [[0,0,0],[0,0,-1],[0,1,0]]\n",
    "\n",
    "- Omission_allowed: yes, Addition_allowed: no, Flips_allowed: no. Result:\n",
    "No manipulation possible\n",
    "-------------\n",
    "## ex. 3\n",
    "approval\n",
    "k=1\n",
    "voter=0\n",
    "- All allowed: Manipulation happened.  alternative 3 is preferred. \n",
    "\n",
    "- No addition allowed: No manipulation possible.\n",
    "-------------\n",
    "## ex. 4\n",
    "approval\n",
    "k=2\n",
    "voter=0\n",
    "- All allowed: Manipulation happened.  New preference of voter_0: [[0,-1,-1],[1,0,-1],[1,1,0]]\n",
    "- No addition allowed: No manipulation possible."
   ]
  },
  {
   "cell_type": "markdown",
   "metadata": {},
   "source": [
    "# Tests"
   ]
  },
  {
   "cell_type": "code",
   "execution_count": 3,
   "metadata": {},
   "outputs": [],
   "source": [
    "# # examples.values[0]: (current_prefs[voters[preference]], true_prefs[voters[preference]])\n",
    "# examples = {\n",
    "#     1: (\n",
    "#         (pd.DataFrame({0: [0,1,1], 1: [-1,0,1], 2:[-1,-1,0]}), pd.DataFrame({0: [0,-1,0], 1: [1,0,1], 2:[0,-1,0]})),\n",
    "#         (pd.DataFrame({0: [0,1,1], 1: [-1,0,1], 2:[-1,-1,0]}), pd.DataFrame({0: [0,0,0], 1: [0,0,-1], 2:[0,1,0]}))\n",
    "#     ),\n",
    "#     2: (\n",
    "#         (pd.DataFrame({0: [0,0,0], 1: [0,0,0], 2:[0,0,0]}), pd.DataFrame({0: [0,0,0], 1: [0,0,1], 2:[0,-1,0]})),\n",
    "#         (pd.DataFrame({0: [0,0,0], 1: [0,0,0], 2:[0,0,0]}),pd.DataFrame({0: [0,0,0], 1: [0,0,-1], 2:[0,1,0]}))\n",
    "#     ),\n",
    "#     3: (\n",
    "#         (pd.DataFrame({0: [0,0,0,0], 1: [0,0,0,-1], 2:[0,0,0,-1], 3: [0,1,1,0]}), pd.DataFrame({0: [0,0,0,0], 1: [0,0,0,0], 2:[0,0,0,0], 3: [0,0,0,0]})),\n",
    "#         (pd.DataFrame({0: [0,1,1,1], 1: [-1,0,1,1], 2:[-1,-1,0,1], 3: [-1,-1,-1,0]}), pd.DataFrame({0: [0,0,0,0], 1: [0,0,0,0], 2:[0,0,0,0], 3: [0,0,0,0]}))\n",
    "#     ),\n",
    "#     4: (\n",
    "#         (pd.DataFrame({0: [0,-1,-1], 1: [1,0,0], 2:[1,0,0]}), pd.DataFrame({0: [0,-1,1], 1: [1,0,1], 2:[-1,-1,0]}), pd.DataFrame({0: [0,1,1], 1: [-1,0,1], 2:[-1,-1,0]})),\n",
    "#         (pd.DataFrame({0: [0,-1,-1], 1: [1,0,0], 2:[1,0,0]}), pd.DataFrame({0: [0,-1,1], 1: [1,0,1], 2:[-1,-1,0]}), pd.DataFrame({0: [0,1,1], 1: [-1,0,1], 2:[-1,-1,0]}))\n",
    "#     )\n",
    "# }\n"
   ]
  },
  {
   "cell_type": "code",
   "execution_count": 4,
   "metadata": {},
   "outputs": [],
   "source": [
    "with open('data/our_data.pkl', 'rb') as f:\n",
    "    data = dill.load(f)"
   ]
  },
  {
   "cell_type": "markdown",
   "metadata": {},
   "source": [
    "random profiles:   1%|█▍                                                                                                                                                | 2/200 [01:13<1:15:23, 22.85s/it]\n",
    "- Random voter chosen: 3\n",
    "scores of alternatives: {'0': 6, '1': 6, '2': 5, '3': 6, '4': 7}\n",
    "Voter: 3 cannot manipulate.\n",
    "\n",
    "- Random voter chosen: 5\n",
    "scores of alternatives: {'0': 6, '1': 6, '2': 5, '3': 6, '4': 7}\n",
    "Voter: 5 cannot manipulate.\n",
    "\n",
    "- Random voter chosen: 7\n",
    "scores of alternatives: {'0': 6, '1': 6, '2': 5, '3': 6, '4': 7}\n",
    "Alternative 3 is preferred. Investigating possible manipulation.\n",
    "in tree_generation_level_1_onwards\n",
    "in examine_matrices_cost_1\n",
    "all generated matrices so far 14\n",
    "in examine_matrices_cost_2\n",
    "all generated matrices so far 14\n",
    "new_max_cost_so_far: 2\n",
    "iteration took 3.212553024291992 sec.\n",
    "in examine_matrices_cost_2\n",
    "all generated matrices so far 23\n",
    "in examine_matrices_cost_1\n",
    "all generated matrices so far 23\n",
    "new_max_cost_so_far: 3\n",
    "iteration took 4.403200149536133 sec.\n",
    "in examine_matrices_cost_2\n",
    "all generated matrices so far 130\n",
    "in examine_matrices_cost_1\n",
    "all generated matrices so far 130\n",
    "new_max_cost_so_far: 4\n",
    "iteration took 30.431101083755493 sec.\n",
    "in examine_matrices_cost_1\n",
    "all generated matrices so far 1330\n",
    "in examine_matrices_cost_2\n",
    "all generated matrices so far 1330\n",
    "new_max_cost_so_far: 5\n",
    "iteration took 895.434944152832 sec.\n",
    "in examine_matrices_cost_1\n",
    "all generated matrices so far 2067\n",
    "in examine_matrices_cost_2\n",
    "all generated matrices so far 2067\n",
    "new_max_cost_so_far: 6\n",
    "iteration took 1405.6081590652466 sec.\n",
    "in examine_matrices_cost_1\n",
    "all generated matrices so far 8622\n",
    "in examine_matrices_cost_2\n",
    "all generated matrices so far 8622\n",
    "new_max_cost_so_far: 7\n",
    "iteration took 23267.050073862076 sec.\n",
    "in examine_matrices_cost_2\n"
   ]
  },
  {
   "cell_type": "code",
   "execution_count": 5,
   "metadata": {},
   "outputs": [],
   "source": [
    "data_to_test = data[(10, 3, '2urn')][0]"
   ]
  },
  {
   "cell_type": "code",
   "execution_count": 17,
   "metadata": {},
   "outputs": [],
   "source": [
    "alph_order = {}\n",
    "for i in data_to_test[0].index:\n",
    "    alph_order[i] = i\n",
    "\n",
    "manipulation_voter=0\n",
    "k=2\n",
    "rule='approval'"
   ]
  },
  {
   "cell_type": "code",
   "execution_count": 18,
   "metadata": {},
   "outputs": [],
   "source": [
    "# example_num=3\n",
    "# prefs = examples[example_num][0]\n",
    "# truth_prefs = examples[example_num][1]\n",
    "\n",
    "# rule='approval'\n",
    "# k=1\n",
    "\n",
    "# alph_order = {0: 0, 1: 1, 2: 2, 3: 3}\n",
    "# assert len(alph_order)==len(prefs[0])\n",
    "# manipulation_voter=0"
   ]
  },
  {
   "cell_type": "code",
   "execution_count": 19,
   "metadata": {},
   "outputs": [],
   "source": [
    "# for i, (p, t) in enumerate(zip(prefs, truth_prefs)):\n",
    "#     print(f'pref {i} current')\n",
    "#     display(p)\n",
    "#     print(f'pref {i} true')\n",
    "#     display(t)"
   ]
  },
  {
   "cell_type": "code",
   "execution_count": 20,
   "metadata": {},
   "outputs": [],
   "source": [
    "winner, possible_winners, scores_of_alternatives = evaluate_profile(graphs=data_to_test, k=k, method=rule, alphabetical_order=alph_order)"
   ]
  },
  {
   "cell_type": "code",
   "execution_count": 21,
   "metadata": {},
   "outputs": [
    {
     "name": "stdout",
     "output_type": "stream",
     "text": [
      "2\n",
      "[0]\n",
      "{'0': 5, '1': 3, '2': 6}\n"
     ]
    }
   ],
   "source": [
    "print(winner)\n",
    "print(possible_winners)\n",
    "print(scores_of_alternatives)"
   ]
  },
  {
   "cell_type": "code",
   "execution_count": 22,
   "metadata": {},
   "outputs": [],
   "source": [
    "man = Manipulation(\n",
    "    all_preferences=data_to_test,\n",
    "    preference_idx=manipulation_voter,\n",
    "    winner=winner,\n",
    "    truthful_profile=data_to_test,\n",
    "    possible_winners=possible_winners,\n",
    "    scores_of_alternatives=scores_of_alternatives,\n",
    "    alphabetical_order_of_alternatives=alph_order,\n",
    "    method=rule,\n",
    "    k=k,\n",
    "    do_additions=True,\n",
    "    do_omissions=True,\n",
    "    do_flips=True,\n",
    "    verbose=True\n",
    ")"
   ]
  },
  {
   "cell_type": "code",
   "execution_count": 23,
   "metadata": {},
   "outputs": [],
   "source": [
    "result = man.manipulation_move()\n",
    "if result is not None:\n",
    "    new_prof, winner = result\n",
    "else:\n",
    "    new_prof = None\n",
    "    winner = None"
   ]
  },
  {
   "cell_type": "code",
   "execution_count": 24,
   "metadata": {},
   "outputs": [
    {
     "ename": "TypeError",
     "evalue": "'NoneType' object is not iterable",
     "output_type": "error",
     "traceback": [
      "\u001b[0;31m---------------------------------------------------------------------------\u001b[0m",
      "\u001b[0;31mTypeError\u001b[0m                                 Traceback (most recent call last)",
      "\u001b[0;32m<ipython-input-24-d166703a7403>\u001b[0m in \u001b[0;36m<module>\u001b[0;34m\u001b[0m\n\u001b[0;32m----> 1\u001b[0;31m \u001b[0;32mfor\u001b[0m \u001b[0mp\u001b[0m \u001b[0;32min\u001b[0m \u001b[0mnew_prof\u001b[0m\u001b[0;34m:\u001b[0m\u001b[0;34m\u001b[0m\u001b[0;34m\u001b[0m\u001b[0m\n\u001b[0m\u001b[1;32m      2\u001b[0m     \u001b[0mdisplay\u001b[0m\u001b[0;34m(\u001b[0m\u001b[0mp\u001b[0m\u001b[0;34m)\u001b[0m\u001b[0;34m\u001b[0m\u001b[0;34m\u001b[0m\u001b[0m\n",
      "\u001b[0;31mTypeError\u001b[0m: 'NoneType' object is not iterable"
     ]
    }
   ],
   "source": [
    "for p in new_prof:\n",
    "    display(p)"
   ]
  },
  {
   "cell_type": "code",
   "execution_count": null,
   "metadata": {},
   "outputs": [],
   "source": []
  },
  {
   "cell_type": "code",
   "execution_count": null,
   "metadata": {},
   "outputs": [],
   "source": []
  },
  {
   "cell_type": "code",
   "execution_count": null,
   "metadata": {},
   "outputs": [],
   "source": []
  },
  {
   "cell_type": "code",
   "execution_count": null,
   "metadata": {},
   "outputs": [],
   "source": []
  }
 ],
 "metadata": {
  "kernelspec": {
   "display_name": "Python 3",
   "language": "python",
   "name": "python3"
  },
  "language_info": {
   "codemirror_mode": {
    "name": "ipython",
    "version": 3
   },
   "file_extension": ".py",
   "mimetype": "text/x-python",
   "name": "python",
   "nbconvert_exporter": "python",
   "pygments_lexer": "ipython3",
   "version": "3.8.5"
  }
 },
 "nbformat": 4,
 "nbformat_minor": 4
}
