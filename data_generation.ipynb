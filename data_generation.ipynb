{
 "cells": [
  {
   "cell_type": "code",
   "execution_count": 1,
   "metadata": {},
   "outputs": [],
   "source": [
    "import pandas as pd\n",
    "import numpy as np\n",
    "from main.data_generation import profile_generation\n",
    "from tqdm import tqdm\n",
    "\n",
    "num_voters = [10, 20 , 50]\n",
    "num_alternatives = [3, 5, 7]\n",
    "methods = ['ic', '2urn']\n",
    "\n",
    "comb=[]\n",
    "for v in num_voters:\n",
    "    for alt in num_alternatives:\n",
    "        for m in methods:\n",
    "            comb.append((v, alt, m))\n",
    "\n",
    "# prof = profile_generation(8, 20, 'ic')\n",
    "\n",
    "\n",
    "\n",
    "profiles = {}\n",
    "for c in tqdm(comb):\n",
    "    print(c)\n",
    "    profiles[c] = {i: profile_generation(c[1], c[0], c[2]) for i in tqdm(range(200), desc = 'random iterations')}\n",
    "\n"
   ]
  }
 ],
 "metadata": {
  "kernelspec": {
   "display_name": "Python 3",
   "language": "python",
   "name": "python3"
  }
 },
 "nbformat": 4,
 "nbformat_minor": 4
}
